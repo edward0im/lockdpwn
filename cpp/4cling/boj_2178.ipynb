{
 "cells": [
  {
   "cell_type": "code",
   "execution_count": 2,
   "metadata": {
    "autoscroll": false,
    "collapsed": false,
    "ein.tags": "worksheet-0",
    "slideshow": {
     "slide_type": "-"
    }
   },
   "outputs": [
    {
     "data": {
      "text/plain": [
       ""
      ]
     },
     "execution_count": 2,
     "metadata": {},
     "output_type": "execute_result"
    }
   ],
   "source": [
    "#include <cstdio>\n",
    "#include <iostream>\n",
    "#include <queue>\n",
    "using namespace std;\n",
    "\n",
    "const int row_off[4] = {-1, 1, 0, 0};\n",
    "const int col_off[4] = {0, 0, -1, 1};\n",
    "\n",
    "bool map[100][100];\n",
    "\n",
    "map[0][0] = 1; map[0][1] = 0; map[0][2] = 1; map[0][3] = 1; map[0][4] = 1; map[0][5] = 1;\n",
    "map[1][0] = 1; map[1][1] = 0; map[1][2] = 1; map[1][3] = 0; map[1][4] = 1; map[1][5] = 0;\n",
    "map[2][0] = 1; map[2][1] = 0; map[2][2] = 1; map[2][3] = 0; map[2][4] = 1; map[2][5] = 1;\n",
    "map[3][0] = 1; map[3][1] = 1; map[3][2] = 1; map[3][3] = 0; map[3][4] = 1; map[3][5] = 1;\n",
    "\n",
    "bool visited[100][100] = {0};\n",
    "visited[0][0] = true;\n",
    "queue<int> q;\n",
    "q.push(0);\n",
    "\n",
    "int move_step = 1;\n",
    "int N = 4; int M = 6;"
   ]
  },
  {
   "cell_type": "code",
   "execution_count": 3,
   "metadata": {
    "autoscroll": false,
    "collapsed": false,
    "ein.tags": "worksheet-0",
    "slideshow": {
     "slide_type": "-"
    }
   },
   "outputs": [
    {
     "name": "stdout",
     "output_type": "stream",
     "text": [
      "15\n"
     ]
    },
    {
     "data": {
      "text/plain": [
       "(int) 0\n"
      ]
     },
     "execution_count": 3,
     "metadata": {},
     "output_type": "execute_result"
    }
   ],
   "source": [
    "while(true) {\n",
    "  int qSize = q.size();\n",
    "  for(int i=0; i<qSize; i++) {\n",
    "    int row = q.front()/100;\n",
    "    int col = q.front()%100;\n",
    "    q.pop();\n",
    "\n",
    "    if(row==N-1 && col==M-1) {\n",
    "      printf(\"%d\\n\", move_step);\n",
    "      return 0;\n",
    "    }\n",
    "\n",
    "    for(int d=0; d<4; d++) {\n",
    "      int next_row = row + row_off[d];\n",
    "      int next_col = col + col_off[d];\n",
    "\n",
    "      if(next_row<0 || next_row>=N || next_col<0 || next_col>=M) continue;\n",
    "      if(!map[next_row][next_col]) continue;\n",
    "      if(visited[next_row][next_col]) continue;\n",
    "\n",
    "      visited[next_row][next_col] = true;\n",
    "      q.push(next_row*100 + next_col);\n",
    "    }\n",
    "  }\n",
    "  move_step++;\n",
    "}"
   ]
  },
  {
   "cell_type": "code",
   "execution_count": 7,
   "metadata": {
    "autoscroll": false,
    "collapsed": false,
    "ein.tags": "worksheet-0",
    "slideshow": {
     "slide_type": "-"
    }
   },
   "outputs": [
    {
     "name": "stdout",
     "output_type": "stream",
     "text": [
      "1, 0, 1, 1, 1, 1, \n",
      "1, 0, 1, 0, 1, 0, \n",
      "1, 0, 1, 0, 1, 1, \n",
      "1, 1, 1, 0, 1, 1, \n"
     ]
    },
    {
     "data": {
      "text/plain": [
       ""
      ]
     },
     "execution_count": 7,
     "metadata": {},
     "output_type": "execute_result"
    }
   ],
   "source": [
    "for(int i=0; i<4; i++) {\n",
    "  for(int j=0; j<6; j++) {\n",
    "    cout << std::noboolalpha << visited[i][j] << \", \";\n",
    "  }\n",
    "  cout << endl;\n",
    "}"
   ]
  },
  {
   "cell_type": "code",
   "execution_count": null,
   "metadata": {
    "autoscroll": false,
    "collapsed": false,
    "ein.tags": "worksheet-0",
    "slideshow": {
     "slide_type": "-"
    }
   },
   "outputs": [],
   "source": []
  }
 ],
 "metadata": {
  "kernelspec": {
   "display_name": "C++11",
   "name": "cling-cpp11"
  },
  "language_info": {
   "codemirror_mode": "c++",
   "file_extension": ".c++",
   "mimetype": "text/x-c++src",
   "name": "c++"
  },
  "name": "Untitled.ipynb"
 },
 "nbformat": 4,
 "nbformat_minor": 2
}
