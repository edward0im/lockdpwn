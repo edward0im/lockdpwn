{
 "cells": [
  {
   "cell_type": "code",
   "execution_count": 1,
   "metadata": {},
   "outputs": [],
   "source": [
    "''' \n",
    "    Convergence Robotis hw3 1.2번 문제를 푼 코드\n",
    "'''\n",
    "from sympy import *\n",
    "from __future__ import division\n",
    "\n",
    "#init_printing(use_unicode=True)\n",
    "L6 = Symbol('L6')"
   ]
  },
  {
   "cell_type": "code",
   "execution_count": 2,
   "metadata": {},
   "outputs": [],
   "source": [
    "T01 = Matrix(((cos('theta1'), -sin('theta1'), 0, 0),\n",
    "              (sin('theta1'), cos('theta1'), 0, 0),\n",
    "              (0, 0, 1, 0),\n",
    "              (0,0,0,1)))\n",
    "\n",
    "T12 = Matrix(((cos('theta2'), -sin('theta2'), 0, 'L1'),\n",
    "              (0, 0, -1, 0),\n",
    "              (sin('theta2'), cos('theta2'), 0, 0),\n",
    "              (0,0,0,1)))\n",
    "\n",
    "T2tip = Matrix(((1, 0, 0, 'L2'),\n",
    "              (0, 1, 0, 0),\n",
    "              (0, 0, 1, 0),\n",
    "              (0,0,0,1)))"
   ]
  },
  {
   "cell_type": "code",
   "execution_count": 3,
   "metadata": {},
   "outputs": [],
   "source": [
    "T0tip = T01*T12*T2tip"
   ]
  },
  {
   "cell_type": "code",
   "execution_count": 8,
   "metadata": {},
   "outputs": [],
   "source": [
    "init_printing(use_unicode=True)"
   ]
  },
  {
   "cell_type": "code",
   "execution_count": 9,
   "metadata": {},
   "outputs": [
    {
     "data": {
      "image/png": "[encoded data removed]",
      "text/latex": [
       "$$\\left[\\begin{matrix}\\cos{\\left (\\theta_{1} \\right )} \\cos{\\left (\\theta_{2} \\right )} & - \\sin{\\left (\\theta_{2} \\right )} \\cos{\\left (\\theta_{1} \\right )} & \\sin{\\left (\\theta_{1} \\right )} & L_{1} \\cos{\\left (\\theta_{1} \\right )} + L_{2} \\cos{\\left (\\theta_{1} \\right )} \\cos{\\left (\\theta_{2} \\right )}\\\\\\sin{\\left (\\theta_{1} \\right )} \\cos{\\left (\\theta_{2} \\right )} & - \\sin{\\left (\\theta_{1} \\right )} \\sin{\\left (\\theta_{2} \\right )} & - \\cos{\\left (\\theta_{1} \\right )} & L_{1} \\sin{\\left (\\theta_{1} \\right )} + L_{2} \\sin{\\left (\\theta_{1} \\right )} \\cos{\\left (\\theta_{2} \\right )}\\\\\\sin{\\left (\\theta_{2} \\right )} & \\cos{\\left (\\theta_{2} \\right )} & 0 & L_{2} \\sin{\\left (\\theta_{2} \\right )}\\\\0 & 0 & 0 & 1\\end{matrix}\\right]$$"
      ],
      "text/plain": [
       "⎡cos(θ₁)⋅cos(θ₂)  -sin(θ₂)⋅cos(θ₁)  sin(θ₁)   L₁⋅cos(θ₁) + L₂⋅cos(θ₁)⋅cos(θ₂)⎤\n",
       "⎢                                                                            ⎥\n",
       "⎢sin(θ₁)⋅cos(θ₂)  -sin(θ₁)⋅sin(θ₂)  -cos(θ₁)  L₁⋅sin(θ₁) + L₂⋅sin(θ₁)⋅cos(θ₂)⎥\n",
       "⎢                                                                            ⎥\n",
       "⎢    sin(θ₂)          cos(θ₂)          0                L₂⋅sin(θ₂)           ⎥\n",
       "⎢                                                                            ⎥\n",
       "⎣       0                0             0                     1               ⎦"
      ]
     },
     "execution_count": 9,
     "metadata": {},
     "output_type": "execute_result"
    }
   ],
   "source": [
    "T0tip"
   ]
  }
 ],
 "metadata": {
  "kernelspec": {
   "display_name": "Python 2",
   "language": "python",
   "name": "python2"
  },
  "language_info": {
   "codemirror_mode": {
    "name": "ipython",
    "version": 2
   },
   "file_extension": ".py",
   "mimetype": "text/x-python",
   "name": "python",
   "nbconvert_exporter": "python",
   "pygments_lexer": "ipython2",
   "version": "2.7.12"
  }
 },
 "nbformat": 4,
 "nbformat_minor": 1
}
