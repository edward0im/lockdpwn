{
 "cells": [
  {
   "cell_type": "code",
   "execution_count": 6,
   "metadata": {},
   "outputs": [],
   "source": [
    "import numpy as np\n",
    "import pandas as pd\n",
    "import matplotlib.pyplot as plt\n",
    "from sympy import *\n",
    "from __future__ import division\n",
    "\n",
    "init_printing(use_unicode=True)\n",
    "\n",
    "x, y, z, t = symbols('x y z t')\n",
    "k, m, n = symbols('k m n', integer=True)\n",
    "f, g, h = symbols('f g h', cls=Function)"
   ]
  },
  {
   "cell_type": "code",
   "execution_count": 7,
   "metadata": {},
   "outputs": [
    {
     "data": {
      "image/png": "[encoded data removed]",
      "text/latex": [
       "$$\\left[\\begin{matrix}1 & -1\\\\3 & 4\\\\0 & 2\\end{matrix}\\right]$$"
      ],
      "text/plain": [
       "⎡1  -1⎤\n",
       "⎢     ⎥\n",
       "⎢3  4 ⎥\n",
       "⎢     ⎥\n",
       "⎣0  2 ⎦"
      ]
     },
     "execution_count": 7,
     "metadata": {},
     "output_type": "execute_result"
    }
   ],
   "source": [
    "Matrix([[1, -1], [3, 4], [0, 2]])"
   ]
  },
  {
   "cell_type": "code",
   "execution_count": 8,
   "metadata": {},
   "outputs": [
    {
     "data": {
      "image/png": "[encoded data removed]",
      "text/latex": [
       "$$\\left[\\begin{matrix}5\\\\3\\end{matrix}\\right]$$"
      ],
      "text/plain": [
       "⎡5⎤\n",
       "⎢ ⎥\n",
       "⎣3⎦"
      ]
     },
     "execution_count": 8,
     "metadata": {},
     "output_type": "execute_result"
    }
   ],
   "source": [
    "M = Matrix([[1, 2, 3], [3, 2, 1]])\n",
    "N = Matrix([0, 1, 1])\n",
    "M*N"
   ]
  },
  {
   "cell_type": "code",
   "execution_count": 12,
   "metadata": {},
   "outputs": [
    {
     "data": {
      "image/png": "[encoded data removed]",
      "text/latex": [
       "$$X \\left(X^T\\right)^{-1} Y$$"
      ],
      "text/plain": [
       "      -1  \n",
       "  ⎛ T⎞    \n",
       "X⋅⎝X ⎠  ⋅Y"
      ]
     },
     "execution_count": 12,
     "metadata": {},
     "output_type": "execute_result"
    }
   ],
   "source": [
    "X = MatrixSymbol('X', 3, 3)\n",
    "Y = MatrixSymbol('Y', 3, 3)\n",
    "X*(X.T).I*Y"
   ]
  },
  {
   "cell_type": "code",
   "execution_count": 16,
   "metadata": {},
   "outputs": [
    {
     "data": {
      "image/png": "[encoded data removed]",
      "text/latex": [
       "$$\\left[\\begin{array}{ccc}X_{0, 0} Y_{0, 0} + X_{0, 1} Y_{1, 0} + X_{0, 2} Y_{2, 0} & X_{0, 0} Y_{0, 1} + X_{0, 1} Y_{1, 1} + X_{0, 2} Y_{2, 1} & X_{0, 0} Y_{0, 2} + X_{0, 1} Y_{1, 2} + X_{0, 2} Y_{2, 2}\\\\X_{1, 0} Y_{0, 0} + X_{1, 1} Y_{1, 0} + X_{1, 2} Y_{2, 0} & X_{1, 0} Y_{0, 1} + X_{1, 1} Y_{1, 1} + X_{1, 2} Y_{2, 1} & X_{1, 0} Y_{0, 2} + X_{1, 1} Y_{1, 2} + X_{1, 2} Y_{2, 2}\\\\X_{2, 0} Y_{0, 0} + X_{2, 1} Y_{1, 0} + X_{2, 2} Y_{2, 0} & X_{2, 0} Y_{0, 1} + X_{2, 1} Y_{1, 1} + X_{2, 2} Y_{2, 1} & X_{2, 0} Y_{0, 2} + X_{2, 1} Y_{1, 2} + X_{2, 2} Y_{2, 2}\\end{array}\\right]$$"
      ],
      "text/plain": [
       "⎡X₀₀⋅Y₀₀ + X₀₁⋅Y₁₀ + X₀₂⋅Y₂₀  X₀₀⋅Y₀₁ + X₀₁⋅Y₁₁ + X₀₂⋅Y₂₁  X₀₀⋅Y₀₂ + X₀₁⋅Y₁₂ +\n",
       "⎢                                                                             \n",
       "⎢X₁₀⋅Y₀₀ + X₁₁⋅Y₁₀ + X₁₂⋅Y₂₀  X₁₀⋅Y₀₁ + X₁₁⋅Y₁₁ + X₁₂⋅Y₂₁  X₁₀⋅Y₀₂ + X₁₁⋅Y₁₂ +\n",
       "⎢                                                                             \n",
       "⎣X₂₀⋅Y₀₀ + X₂₁⋅Y₁₀ + X₂₂⋅Y₂₀  X₂₀⋅Y₀₁ + X₂₁⋅Y₁₁ + X₂₂⋅Y₂₁  X₂₀⋅Y₀₂ + X₂₁⋅Y₁₂ +\n",
       "\n",
       " X₀₂⋅Y₂₂⎤\n",
       "        ⎥\n",
       " X₁₂⋅Y₂₂⎥\n",
       "        ⎥\n",
       " X₂₂⋅Y₂₂⎦"
      ]
     },
     "execution_count": 16,
     "metadata": {},
     "output_type": "execute_result"
    }
   ],
   "source": [
    "Matrix(X*Y)"
   ]
  },
  {
   "cell_type": "code",
   "execution_count": 15,
   "metadata": {},
   "outputs": [
    {
     "data": {
      "image/png": "[encoded data removed]",
      "text/latex": [
       "$$X_{1, 0} Y_{0, 2} + X_{1, 1} Y_{1, 2} + X_{1, 2} Y_{2, 2}$$"
      ],
      "text/plain": [
       "X₁₀⋅Y₀₂ + X₁₁⋅Y₁₂ + X₁₂⋅Y₂₂"
      ]
     },
     "execution_count": 15,
     "metadata": {},
     "output_type": "execute_result"
    }
   ],
   "source": [
    "(X*Y)[1, 2]"
   ]
  },
  {
   "cell_type": "code",
   "execution_count": 24,
   "metadata": {},
   "outputs": [
    {
     "data": {
      "image/png": "[encoded data removed]",
      "text/latex": [
       "$$\\left[\\begin{matrix}\\cos{\\left (\\theta_{3} \\right )} & \\sin{\\left (\\theta_{3} \\right )} & 0\\\\- \\sin{\\left (\\theta_{3} \\right )} & \\cos{\\left (\\theta_{3} \\right )} & 0\\\\0 & 0 & 1\\end{matrix}\\right]$$"
      ],
      "text/plain": [
       "⎡cos(θ₃)   sin(θ₃)  0⎤\n",
       "⎢                    ⎥\n",
       "⎢-sin(θ₃)  cos(θ₃)  0⎥\n",
       "⎢                    ⎥\n",
       "⎣   0         0     1⎦"
      ]
     },
     "execution_count": 24,
     "metadata": {},
     "output_type": "execute_result"
    }
   ],
   "source": [
    "rot_axis1(Symbol('theta1'))\n",
    "rot_axis2(Symbol('theta2'))\n",
    "rot_axis3(Symbol('theta3'))"
   ]
  },
  {
   "cell_type": "code",
   "execution_count": null,
   "metadata": {},
   "outputs": [],
   "source": []
  }
 ],
 "metadata": {
  "kernelspec": {
   "display_name": "Python 2",
   "language": "python",
   "name": "python2"
  },
  "language_info": {
   "codemirror_mode": {
    "name": "ipython",
    "version": 2
   },
   "file_extension": ".py",
   "mimetype": "text/x-python",
   "name": "python",
   "nbconvert_exporter": "python",
   "pygments_lexer": "ipython2",
   "version": "2.7.12"
  }
 },
 "nbformat": 4,
 "nbformat_minor": 1
}
