{
 "cells": [
  {
   "cell_type": "code",
   "execution_count": 34,
   "metadata": {
    "autoscroll": false,
    "collapsed": false,
    "ein.tags": "worksheet-0",
    "slideshow": {
     "slide_type": "-"
    }
   },
   "outputs": [],
   "source": [
    "'''\n",
    "    python ==> MalwareML, claMP 악성코드 샘플을 사용해 Decision Tree, SVM, PCA를 구현해 히스토그램을 그려보는 코드\n",
    "'''\n",
    "# load library and file\n",
    "%matplotlib inline\n",
    "import pandas as pd\n",
    "import numpy as np\n",
    "import matplotlib.pyplot as plt\n",
    "\n",
    "df = pd.read_csv('ClaMP_Integrated-5184.csv')"
   ]
  },
  {
   "cell_type": "code",
   "execution_count": 35,
   "metadata": {
    "autoscroll": false,
    "collapsed": false,
    "ein.tags": "worksheet-0",
    "slideshow": {
     "slide_type": "-"
    }
   },
   "outputs": [],
   "source": [
    "# prepare data\n",
    "\n",
    "# PCA 분석을 하기 위한 데이터를 따로 빼논다\n",
    "y_label = df['class']\n",
    "df_PCA = df.drop('class' ,1 )\n",
    "df_PCA = df_PCA.drop('packer_type', 1)\n",
    "\n",
    "# 데이터를 정상과 악성으로 나눈다.\n",
    "benign = df.loc[df['class'] == 0]\n",
    "malware = df.loc[df['class'] == 1]\n",
    "\n",
    "# 위 데이터들을 80% 20%로 자른다\n",
    "x_train_n, x_test_n = np.split(benign, [int(.8 * len(benign))])\n",
    "x_train_m, x_test_m = np.split(malware, [int(.8 * len(malware))])\n",
    "\n",
    "# 위에서 나누는 test, train 데이터들을 다시 합친다\n",
    "x_train = np.concatenate([x_train_n, x_train_m])\n",
    "x_test = np.concatenate([x_test_n, x_test_m])\n"
   ]
  },
  {
   "cell_type": "code",
   "execution_count": 43,
   "metadata": {
    "autoscroll": false,
    "collapsed": false,
    "ein.tags": "worksheet-0",
    "slideshow": {
     "slide_type": "-"
    }
   },
   "outputs": [
    {
     "ename": "IndexError",
     "evalue": "index 69 is out of bounds for axis 1 with size 1",
     "output_type": "error",
     "traceback": [
      "\u001b[1;31m---------------------------------------------------------------------------\u001b[0m",
      "\u001b[1;31mIndexError\u001b[0m                                Traceback (most recent call last)",
      "\u001b[1;32m<ipython-input-43-389cafb45c4b>\u001b[0m in \u001b[0;36m<module>\u001b[1;34m()\u001b[0m\n\u001b[0;32m      1\u001b[0m \u001b[1;31m# train, test 데이터의 마지막 정답데이터들을 따로 뺴낸다\u001b[0m\u001b[1;33m\u001b[0m\u001b[1;33m\u001b[0m\u001b[0m\n\u001b[1;32m----> 2\u001b[1;33m \u001b[0my_train\u001b[0m \u001b[1;33m=\u001b[0m \u001b[0mx_train\u001b[0m\u001b[1;33m[\u001b[0m\u001b[1;33m:\u001b[0m\u001b[1;33m,\u001b[0m \u001b[1;36m69\u001b[0m\u001b[1;33m]\u001b[0m\u001b[1;33m\u001b[0m\u001b[0m\n\u001b[0m\u001b[0;32m      3\u001b[0m \u001b[0mx_train\u001b[0m \u001b[1;33m=\u001b[0m \u001b[0mx_train\u001b[0m\u001b[1;33m[\u001b[0m\u001b[1;33m:\u001b[0m\u001b[1;33m,\u001b[0m \u001b[1;36m0\u001b[0m\u001b[1;33m:\u001b[0m\u001b[1;36m69\u001b[0m\u001b[1;33m]\u001b[0m\u001b[1;33m\u001b[0m\u001b[0m\n\u001b[0;32m      4\u001b[0m \u001b[0my_test\u001b[0m \u001b[1;33m=\u001b[0m \u001b[0mx_test\u001b[0m\u001b[1;33m[\u001b[0m\u001b[1;33m:\u001b[0m\u001b[1;33m,\u001b[0m\u001b[1;36m69\u001b[0m\u001b[1;33m]\u001b[0m\u001b[1;33m\u001b[0m\u001b[0m\n\u001b[0;32m      5\u001b[0m \u001b[0mx_test\u001b[0m \u001b[1;33m=\u001b[0m \u001b[0mx_test\u001b[0m\u001b[1;33m[\u001b[0m\u001b[1;33m:\u001b[0m\u001b[1;33m,\u001b[0m \u001b[1;36m0\u001b[0m\u001b[1;33m:\u001b[0m\u001b[1;36m69\u001b[0m\u001b[1;33m]\u001b[0m\u001b[1;33m\u001b[0m\u001b[0m\n",
      "\u001b[1;31mIndexError\u001b[0m: index 69 is out of bounds for axis 1 with size 1"
     ]
    }
   ],
   "source": [
    "# train, test 데이터의 마지막 정답데이터들을 따로 뺴낸다 \n",
    "y_train = x_train[:, 69]\n",
    "x_train = x_train[:, 0:69]\n",
    "y_test = x_test[:,69]\n",
    "x_test = x_test[:, 0:69]\n",
    "\n",
    "# 아래 함수들에 넣을 때 에러가 나지 않기 위해 데이터를 아래와 같이 가공한다\n",
    "y_train = np.array(y_train, dtype='int64')\n",
    "y_test = np.array(y_test, dtype='int64')\n",
    "# ''\n",
    "x_train = x_train.reshape(4167, 1)\n",
    "y_train = y_train.reshape(4167, 1)\n",
    "x_test = x_test.reshape(1043, 1)"
   ]
  },
  {
   "cell_type": "code",
   "execution_count": 86,
   "metadata": {
    "autoscroll": false,
    "collapsed": false,
    "ein.tags": "worksheet-0",
    "slideshow": {
     "slide_type": "-"
    }
   },
   "outputs": [],
   "source": [
    "# Decision Tree 알고리즘\n",
    "from sklearn import tree\n",
    "# SVM 알고리즘\n",
    "from sklearn.svm import SVC\n",
    "from sklearn.model_selection import GridSearchCV\n",
    "\n",
    "def doDecisionTree(x_train, y_train, x_test):\n",
    "    clf = tree.DecisionTreeClassifier()\n",
    "    clf = clf.fit(x_train, y_train)\n",
    "    y_pred = clf.predict(x_test)\n",
    "    \n",
    "    return y_pred \n",
    "\n",
    "\n",
    "def doSVM(x_train, y_train, x_test, c = 1.0 , g = 'auto'):\n",
    "    if(g != 'auto'):\n",
    "        clf = SVC(kernel='rbf', C = float(c), gamma = float(g))\n",
    "    else:\n",
    "        clf = SVC(kernel='rbf', C = float(c), gamma = 'auto')\n",
    "    clf.fit(x_train, y_train)\n",
    "    y_pred = clf.predict(x_test)\n",
    "    \n",
    "    return y_pred\n",
    "\n",
    "#def searchSVM(x, y, test):\n",
    "#    tuned_parameters = [{'kerel'}]\n",
    "    "
   ]
  },
  {
   "cell_type": "code",
   "execution_count": 87,
   "metadata": {
    "autoscroll": false,
    "collapsed": false,
    "ein.tags": "worksheet-0",
    "slideshow": {
     "slide_type": "-"
    }
   },
   "outputs": [],
   "source": [
    "# metrics\n",
    "import itertools\n",
    "from sklearn.metrics import accuracy_score\n",
    "from sklearn.metrics import f1_score\n",
    "from sklearn.metrics import confusion_matrix\n",
    "\n",
    "def doAccuracy(y_test, y_pred):\n",
    "    return accuracy_score(y_test, y_pred)\n",
    "\n",
    "def doF1score(y_test, y_pred):\n",
    "    return f1_score(y_test, y_pred)\n",
    "\n",
    "def plot_confusion_matrix(cm, classes,\n",
    "                          normalize=False,\n",
    "                          title='Confusion matrix',\n",
    "                          cmap=plt.cm.Blues):\n",
    "    \"\"\"\n",
    "    This function prints and plots the confusion matrix.\n",
    "    Normalization can be applied by setting `normalize=True`.\n",
    "    \"\"\"\n",
    "    plt.imshow(cm, interpolation='nearest', cmap=cmap)\n",
    "    plt.title(title)\n",
    "    plt.colorbar()\n",
    "    tick_marks = np.arange(len(classes))\n",
    "    plt.xticks(tick_marks, classes, rotation=45)\n",
    "    plt.yticks(tick_marks, classes)\n",
    "\n",
    "    if normalize:\n",
    "        cm = cm.astype('float') / cm.sum(axis=1)[:, np.newaxis]\n",
    "        print(\"Normalized confusion matrix\")\n",
    "    else:\n",
    "        print('Confusion matrix, without normalization')\n",
    "\n",
    "    print(cm)\n",
    "\n",
    "    thresh = cm.max() / 2.\n",
    "    for i, j in itertools.product(range(cm.shape[0]), range(cm.shape[1])):\n",
    "        plt.text(j, i, cm[i, j],\n",
    "                 horizontalalignment=\"center\",\n",
    "                 color=\"white\" if cm[i, j] > thresh else \"black\")\n",
    "\n",
    "    plt.tight_layout()\n",
    "    plt.ylabel('True label')\n",
    "    plt.xlabel('Predicted label')\n",
    "    \n",
    "    \n",
    "def doConfusionMatrix(y_test, y_pred):\n",
    "    cnf_maxrix = confusion_matrix(y_test, y_pred)\n",
    "    plot_confusion_matrix(cnf_maxrix, classes=['benign', 'malware'])\n",
    "    return doAccuracy(y_test, y_pred)"
   ]
  },
  {
   "cell_type": "code",
   "execution_count": 88,
   "metadata": {
    "autoscroll": false,
    "collapsed": false,
    "ein.tags": "worksheet-0",
    "slideshow": {
     "slide_type": "-"
    }
   },
   "outputs": [],
   "source": [
    "# PCA 분석용 라이브러리 로드\n",
    "from sklearn.decomposition import PCA\n",
    "\n",
    "# PCA는 train, test를 나누지 않고 전체 데이터를 한 번 PCA를 돌려야 한다.\n",
    "def doPCA(x_train, n ):\n",
    "    pca = PCA(n_components = n)\n",
    "    pca.fit(x_train)\n",
    "    \n",
    "    # n개의 컬럼의 PCA 결과값을 프린트한다\n",
    "    print(pca.explained_variance_ratio_)\n",
    "    \n",
    "    # 주성분에 따라 추출된 n개의 컬럼을 반환한다\n",
    "    x_train_transformed = pca.fit_transform(x_train)\n",
    "    return x_train_transformed"
   ]
  },
  {
   "cell_type": "code",
   "execution_count": 89,
   "metadata": {
    "autoscroll": false,
    "collapsed": false,
    "ein.tags": "worksheet-0",
    "slideshow": {
     "slide_type": "-"
    }
   },
   "outputs": [
    {
     "name": "stdout",
     "output_type": "stream",
     "text": [
      "[ 0.57609263  0.34590098  0.06679743  0.008549    0.00265995]\n",
      "(5210, 6)\n"
     ]
    }
   ],
   "source": [
    "# PCA 분석 수행. 5개의 대표컬럼만 추출한다\n",
    "df_PCA = doPCA(df_PCA, 5)\n",
    "df_PCA = np.column_stack((df_PCA, y_label))\n",
    "\n",
    "print(df_PCA.shape)"
   ]
  },
  {
   "cell_type": "code",
   "execution_count": 90,
   "metadata": {
    "autoscroll": false,
    "collapsed": false,
    "ein.tags": "worksheet-0",
    "slideshow": {
     "slide_type": "-"
    }
   },
   "outputs": [],
   "source": [
    "# PCA 데이터 나누기 ---------------------------------------------\n",
    "# 데이터를 정상과 악성으로 나눈다.\n",
    "benign_PCA = df_PCA[ y_label == 0]\n",
    "malware_PCA = df_PCA[ y_label == 1]\n",
    "\n",
    "# 위 데이터들을 80% 20%로 자른다\n",
    "x_train_n_PCA, x_test_n_PCA = np.split(benign_PCA, [int(.8 * len(benign))])\n",
    "x_train_m_PCA, x_test_m_PCA = np.split(malware_PCA, [int(.8 * len(malware))])\n",
    "\n",
    "# 위에서 나누는 test, train 데이터들을 다시 합친다\n",
    "x_train_PCA = np.concatenate([x_train_n_PCA, x_train_m_PCA])\n",
    "x_test_PCA = np.concatenate([x_test_n_PCA, x_test_m_PCA])\n",
    "\n",
    "# train, test 데이터의 마지막 정답데이터들을 따로 뺴낸다 \n",
    "y_train_PCA = x_train_PCA[:, 5]\n",
    "x_train_PCA = x_train_PCA[:, 0:5]\n",
    "y_test_PCA = x_test_PCA[:,5]\n",
    "x_test_PCA = x_test_PCA[:, 0:5]\n",
    "\n",
    "# 아래 함수들에 넣을 때 에러가 나지 않기 위해 데이터를 아래와 같이 가공한다\n",
    "y_train_PCA = np.array(y_train_PCA, dtype='int64')\n",
    "y_test_PCA = np.array(y_test_PCA, dtype='int64')\n",
    "# ''\n",
    "x_train = x_train.reshape(4167, 1)\n",
    "y_train = y_train.reshape(4167, 1)\n",
    "x_test = x_test.reshape(1043, 1)"
   ]
  },
  {
   "cell_type": "code",
   "execution_count": 91,
   "metadata": {
    "autoscroll": false,
    "collapsed": false,
    "ein.tags": "worksheet-0",
    "scrolled": false,
    "slideshow": {
     "slide_type": "-"
    }
   },
   "outputs": [
    {
     "name": "stderr",
     "output_type": "stream",
     "text": [
      "c:\\programdata\\anaconda3\\envs\\tf\\lib\\site-packages\\sklearn\\utils\\validation.py:526: DataConversionWarning: A column-vector y was passed when a 1d array was expected. Please change the shape of y to (n_samples, ), for example using ravel().\n",
      "  y = column_or_1d(y, warn=True)\n"
     ]
    },
    {
     "name": "stdout",
     "output_type": "stream",
     "text": [
      "0.682646212848 0.656759348035\n",
      "\n",
      "0.703670546106 0.595022624434\n",
      "\n",
      "-------------------------------------------------------\n",
      "\n",
      "Confusion matrix, without normalization\n",
      "[[319 179]\n",
      " [152 393]]\n",
      "0.682646212848\n",
      "\n",
      "Confusion matrix, without normalization\n",
      "[[422  76]\n",
      " [282 263]]\n",
      "0.656759348035\n"
     ]
    },
    {
     "data": {
      "image/png": "[encoded data removed]",
      "text/plain": [
       "<matplotlib.figure.Figure at 0xa04151518>"
      ]
     },
     "metadata": {},
     "output_type": "display_data"
    }
   ],
   "source": [
    "# Before PCA, simple SVM -----------------------------------------------\n",
    "# Decision Tree와 SVN 분석 수행\n",
    "y_pred = doDecisionTree(x_train, y_train, x_test)\n",
    "y_pred2 = doSVM(x_train, y_train, x_test, 10, 0.0001)\n",
    "\n",
    "print(doAccuracy(y_test, y_pred), doAccuracy(y_test, y_pred2))\n",
    "print()\n",
    "print(doF1score(y_test, y_pred), doF1score(y_test, y_pred2))\n",
    "print(\"\\n-------------------------------------------------------\\n\")\n",
    "print(doConfusionMatrix(y_test, y_pred))\n",
    "print()\n",
    "print(doConfusionMatrix(y_test, y_pred2))"
   ]
  },
  {
   "cell_type": "code",
   "execution_count": 93,
   "metadata": {
    "autoscroll": false,
    "collapsed": false,
    "ein.tags": "worksheet-0",
    "scrolled": false,
    "slideshow": {
     "slide_type": "-"
    }
   },
   "outputs": [
    {
     "name": "stdout",
     "output_type": "stream",
     "text": [
      "[*] Decision Tree acc:  0.905081495686  \n",
      "[*] SVM acc:  0.627996164909\n",
      "\n",
      "[*] Decision Tree f1:  0.909090909091  \n",
      "[*] SVM f1 :  0.447293447293\n",
      "\n",
      "-------------------------------------------------------\n",
      "\n",
      "Confusion matrix, without normalization\n",
      "[[449  49]\n",
      " [ 50 495]]\n",
      "\n",
      "[*] Decision Tree acc:  0.905081495686\n",
      "\n",
      "Confusion matrix, without normalization\n",
      "[[498   0]\n",
      " [388 157]]\n",
      "\n",
      "[*] SVM : acc 0.627996164909\n"
     ]
    },
    {
     "data": {
      "image/png": "[encoded data removed]",
      "text/plain": [
       "<matplotlib.figure.Figure at 0xa039a2a58>"
      ]
     },
     "metadata": {},
     "output_type": "display_data"
    }
   ],
   "source": [
    "# After PCA, simple SVM -----------------------------------------------\n",
    "# Decision Tree와 SVN 분석 수행\n",
    "# SVM에서 커널함수 파라미터 C와 Gamma 값을 안 넣은 상태이므로 성능이 좋지 않다\n",
    "y_pred_PCA = doDecisionTree(x_train_PCA, y_train_PCA, x_test_PCA)\n",
    "y_pred2_PCA = doSVM(x_train_PCA, y_train_PCA, x_test_PCA)\n",
    "\n",
    "print(\"[*] Decision Tree acc: \", doAccuracy(y_test_PCA, y_pred_PCA), \" \\n[*] SVM acc: \", doAccuracy(y_test_PCA, y_pred2_PCA))\n",
    "print()\n",
    "print(\"[*] Decision Tree f1: \",doF1score(y_test_PCA, y_pred_PCA),\" \\n[*] SVM f1 : \", doF1score(y_test_PCA, y_pred2_PCA))\n",
    "print(\"\\n-------------------------------------------------------\\n\")\n",
    "print(\"\\n[*] Decision Tree acc: \",doConfusionMatrix(y_test_PCA, y_pred_PCA))\n",
    "print()\n",
    "print(\"\\n[*] SVM : acc\",doConfusionMatrix(y_test_PCA, y_pred2_PCA))"
   ]
  },
  {
   "cell_type": "code",
   "execution_count": null,
   "metadata": {
    "autoscroll": false,
    "collapsed": false,
    "ein.tags": "worksheet-0",
    "slideshow": {
     "slide_type": "-"
    }
   },
   "outputs": [],
   "source": []
  }
 ],
 "metadata": {
  "kernelspec": {
   "display_name": "Python 3",
   "language": "python",
   "name": "python3"
  },
  "language_info": {
   "codemirror_mode": {
    "name": "ipython",
    "version": 3
   },
   "file_extension": ".py",
   "mimetype": "text/x-python",
   "name": "python",
   "nbconvert_exporter": "python",
   "pygments_lexer": "ipython3",
   "version": "3.5.3"
  },
  "name": "MalwareML_claMP_usingDecisionTreeSVMPCA.ipynb"
 },
 "nbformat": 4,
 "nbformat_minor": 2
}
