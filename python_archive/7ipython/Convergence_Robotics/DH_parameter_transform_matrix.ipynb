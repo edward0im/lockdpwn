{
 "cells": [
  {
   "cell_type": "code",
   "execution_count": 2,
   "metadata": {},
   "outputs": [],
   "source": [
    "''' \n",
    "    Convergence Robotis hw3 1.2번 문제를 푼 코드\n",
    "'''\n",
    "from sympy import *\n",
    "from __future__ import division\n",
    "\n",
    "#init_printing(use_unicode=True)"
   ]
  },
  {
   "cell_type": "code",
   "execution_count": 58,
   "metadata": {},
   "outputs": [],
   "source": [
    "T_i_1_R = Matrix(((1, 0, 0, 0),\n",
    "                  (0, cos('alpha_i-1'), -sin('alpha_i-1'), 0),\n",
    "                  (0, sin('alpha_i-1'), cos('alpha_i-1'), 0),\n",
    "                  (0,0,0,1)))\n",
    "\n",
    "\n",
    "T_R_Q = Matrix(((1, 0, 0, 'a_i-1'),\n",
    "                (0, 1, 0, 0),\n",
    "                (0, 0, 1, 0),\n",
    "                (0,0,0,1)))\n",
    "\n",
    "\n",
    "T_Q_P = Matrix(((cos('theta1'), -sin('theta1'), 0, 0),\n",
    "                (sin('theta1'), cos('theta1'), 0, 0),\n",
    "                (0, 0, 1, 0),\n",
    "                (0,0,0,1)))\n",
    "\n",
    "\n",
    "T_P_i = Matrix(((1, 0, 0, 0),\n",
    "              (0, 1, 0, 0),\n",
    "              (0, 0, 1, 'd_i'),\n",
    "              (0,0,0,1)))"
   ]
  },
  {
   "cell_type": "code",
   "execution_count": 59,
   "metadata": {},
   "outputs": [],
   "source": [
    "T_i_1_i = T_i_1_R * T_R_Q * T_Q_P * T_P_i"
   ]
  },
  {
   "cell_type": "code",
   "execution_count": 60,
   "metadata": {},
   "outputs": [],
   "source": [
    "init_printing(use_unicode=True)"
   ]
  },
  {
   "cell_type": "code",
   "execution_count": 61,
   "metadata": {},
   "outputs": [
    {
     "data": {
      "image/png": "[encoded data removed]",
      "text/latex": [
       "$$\\left[\\begin{matrix}\\cos{\\left (\\theta_{1} \\right )} & - \\sin{\\left (\\theta_{1} \\right )} & 0 & a_{i} - 1\\\\\\sin{\\left (\\theta_{1} \\right )} \\cos{\\left (\\alpha_{i} - 1 \\right )} & \\cos{\\left (\\theta_{1} \\right )} \\cos{\\left (\\alpha_{i} - 1 \\right )} & - \\sin{\\left (\\alpha_{i} - 1 \\right )} & - d_{i} \\sin{\\left (\\alpha_{i} - 1 \\right )}\\\\\\sin{\\left (\\theta_{1} \\right )} \\sin{\\left (\\alpha_{i} - 1 \\right )} & \\sin{\\left (\\alpha_{i} - 1 \\right )} \\cos{\\left (\\theta_{1} \\right )} & \\cos{\\left (\\alpha_{i} - 1 \\right )} & d_{i} \\cos{\\left (\\alpha_{i} - 1 \\right )}\\\\0 & 0 & 0 & 1\\end{matrix}\\right]$$"
      ],
      "text/plain": [
       "⎡      cos(θ₁)             -sin(θ₁)             0            aᵢ - 1     ⎤\n",
       "⎢                                                                       ⎥\n",
       "⎢sin(θ₁)⋅cos(αᵢ - 1)  cos(θ₁)⋅cos(αᵢ - 1)  -sin(αᵢ - 1)  -dᵢ⋅sin(αᵢ - 1)⎥\n",
       "⎢                                                                       ⎥\n",
       "⎢sin(θ₁)⋅sin(αᵢ - 1)  sin(αᵢ - 1)⋅cos(θ₁)  cos(αᵢ - 1)   dᵢ⋅cos(αᵢ - 1) ⎥\n",
       "⎢                                                                       ⎥\n",
       "⎣         0                    0                0               1       ⎦"
      ]
     },
     "execution_count": 61,
     "metadata": {},
     "output_type": "execute_result"
    }
   ],
   "source": [
    "T_i_1_i"
   ]
  },
  {
   "cell_type": "code",
   "execution_count": null,
   "metadata": {},
   "outputs": [],
   "source": []
  },
  {
   "cell_type": "code",
   "execution_count": null,
   "metadata": {},
   "outputs": [],
   "source": []
  }
 ],
 "metadata": {
  "kernelspec": {
   "display_name": "Python 2",
   "language": "python",
   "name": "python2"
  },
  "language_info": {
   "codemirror_mode": {
    "name": "ipython",
    "version": 2
   },
   "file_extension": ".py",
   "mimetype": "text/x-python",
   "name": "python",
   "nbconvert_exporter": "python",
   "pygments_lexer": "ipython2",
   "version": "2.7.12"
  }
 },
 "nbformat": 4,
 "nbformat_minor": 1
}
