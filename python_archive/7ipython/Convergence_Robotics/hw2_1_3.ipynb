{
 "cells": [
  {
   "cell_type": "code",
   "execution_count": 1,
   "metadata": {},
   "outputs": [],
   "source": [
    "''' \n",
    "    Convergence Robotis hw2 1.3번 문제를 푼 코드\n",
    "'''\n",
    "from sympy import *\n",
    "from __future__ import division\n",
    "\n",
    "#init_printing(use_unicode=True)\n",
    "L6 = Symbol('L6')"
   ]
  },
  {
   "cell_type": "code",
   "execution_count": 2,
   "metadata": {},
   "outputs": [],
   "source": [
    "T01 = Matrix(((cos('theta1'), -sin('theta1'), 0, 0),\n",
    "              (sin('theta1'), cos('theta1'), 0, 0),\n",
    "              (0, 0, 1, 0),\n",
    "              (0,0,0,1)))\n",
    "\n",
    "T12 = Matrix(((cos('theta2'), -sin('theta2'), 0, 0),\n",
    "              (0, 0, 1, 'd2'),\n",
    "              (-sin('theta2'), cos('theta2'), 0, 0),\n",
    "              (0,0,0,1)))\n",
    "\n",
    "T23 = Matrix(((cos('theta3'), -sin('theta3'), 0, 'a2'),\n",
    "              (sin('theta3'), cos('theta3'), 0, 0),\n",
    "              (0, 0, 1, '-d3'),\n",
    "              (0,0,0,1)))\n",
    "\n",
    "T34 = Matrix(((cos('theta4'), -sin('theta4'), 0, '-a3'),\n",
    "              (0, 0, -1, '-d4'),\n",
    "              (sin('theta4'), cos('theta4'), 0, 0),\n",
    "              (0,0,0,1)))\n",
    "\n",
    "T45 = Matrix(((cos('theta5'), -sin('theta5'), 0, 0),\n",
    "              (0, 0, 1, 0),\n",
    "              (-sin('theta5'), -cos('theta5'), 0, 0),\n",
    "              (0,0,0,1)))\n",
    "\n",
    "T56 = Matrix(((cos('theta6'), -sin('theta6'), 0, 0),\n",
    "              (0, 0, -1, 0),\n",
    "              (sin('theta6'), cos('theta6'), 0, 0),\n",
    "              (0,0,0,1)))"
   ]
  },
  {
   "cell_type": "code",
   "execution_count": 3,
   "metadata": {},
   "outputs": [],
   "source": [
    "T06 = T01*T12*T23*T34*T45*T56"
   ]
  },
  {
   "cell_type": "code",
   "execution_count": 4,
   "metadata": {},
   "outputs": [
    {
     "data": {
      "text/plain": [
       "Matrix([\n",
       "[(((-sin(theta2)*sin(theta3)*cos(theta1) + cos(theta1)*cos(theta2)*cos(theta3))*cos(theta4) - sin(theta1)*sin(theta4))*cos(theta5) - (sin(theta2)*cos(theta1)*cos(theta3) + sin(theta3)*cos(theta1)*cos(theta2))*sin(theta5))*cos(theta6) + (-(-sin(theta2)*sin(theta3)*cos(theta1) + cos(theta1)*cos(theta2)*cos(theta3))*sin(theta4) - sin(theta1)*cos(theta4))*sin(theta6), -(((-sin(theta2)*sin(theta3)*cos(theta1) + cos(theta1)*cos(theta2)*cos(theta3))*cos(theta4) - sin(theta1)*sin(theta4))*cos(theta5) - (sin(theta2)*cos(theta1)*cos(theta3) + sin(theta3)*cos(theta1)*cos(theta2))*sin(theta5))*sin(theta6) + (-(-sin(theta2)*sin(theta3)*cos(theta1) + cos(theta1)*cos(theta2)*cos(theta3))*sin(theta4) - sin(theta1)*cos(theta4))*cos(theta6), ((-sin(theta2)*sin(theta3)*cos(theta1) + cos(theta1)*cos(theta2)*cos(theta3))*cos(theta4) - sin(theta1)*sin(theta4))*sin(theta5) + (sin(theta2)*cos(theta1)*cos(theta3) + sin(theta3)*cos(theta1)*cos(theta2))*cos(theta5), a2*cos(theta1)*cos(theta2) - a3*(-sin(theta2)*sin(theta3)*cos(theta1) + cos(theta1)*cos(theta2)*cos(theta3)) - d2*sin(theta1) + d3*sin(theta1) - d4*(-sin(theta2)*cos(theta1)*cos(theta3) - sin(theta3)*cos(theta1)*cos(theta2))],\n",
       "[(((-sin(theta1)*sin(theta2)*sin(theta3) + sin(theta1)*cos(theta2)*cos(theta3))*cos(theta4) + sin(theta4)*cos(theta1))*cos(theta5) - (sin(theta1)*sin(theta2)*cos(theta3) + sin(theta1)*sin(theta3)*cos(theta2))*sin(theta5))*cos(theta6) + (-(-sin(theta1)*sin(theta2)*sin(theta3) + sin(theta1)*cos(theta2)*cos(theta3))*sin(theta4) + cos(theta1)*cos(theta4))*sin(theta6), -(((-sin(theta1)*sin(theta2)*sin(theta3) + sin(theta1)*cos(theta2)*cos(theta3))*cos(theta4) + sin(theta4)*cos(theta1))*cos(theta5) - (sin(theta1)*sin(theta2)*cos(theta3) + sin(theta1)*sin(theta3)*cos(theta2))*sin(theta5))*sin(theta6) + (-(-sin(theta1)*sin(theta2)*sin(theta3) + sin(theta1)*cos(theta2)*cos(theta3))*sin(theta4) + cos(theta1)*cos(theta4))*cos(theta6), ((-sin(theta1)*sin(theta2)*sin(theta3) + sin(theta1)*cos(theta2)*cos(theta3))*cos(theta4) + sin(theta4)*cos(theta1))*sin(theta5) + (sin(theta1)*sin(theta2)*cos(theta3) + sin(theta1)*sin(theta3)*cos(theta2))*cos(theta5), a2*sin(theta1)*cos(theta2) - a3*(-sin(theta1)*sin(theta2)*sin(theta3) + sin(theta1)*cos(theta2)*cos(theta3)) + d2*cos(theta1) - d3*cos(theta1) - d4*(-sin(theta1)*sin(theta2)*cos(theta3) - sin(theta1)*sin(theta3)*cos(theta2))],\n",
       "[                                                                                                                               (-(-sin(theta2)*sin(theta3) - cos(theta2)*cos(theta3))*sin(theta5) + (-sin(theta2)*cos(theta3) + sin(theta3)*cos(theta2))*cos(theta4)*cos(theta5))*cos(theta6) - (-sin(theta2)*cos(theta3) + sin(theta3)*cos(theta2))*sin(theta4)*sin(theta6),                                                                                                                                -(-(-sin(theta2)*sin(theta3) - cos(theta2)*cos(theta3))*sin(theta5) + (-sin(theta2)*cos(theta3) + sin(theta3)*cos(theta2))*cos(theta4)*cos(theta5))*sin(theta6) - (-sin(theta2)*cos(theta3) + sin(theta3)*cos(theta2))*sin(theta4)*cos(theta6),                                                                            (-sin(theta2)*sin(theta3) - cos(theta2)*cos(theta3))*cos(theta5) + (-sin(theta2)*cos(theta3) + sin(theta3)*cos(theta2))*sin(theta5)*cos(theta4),                                                                                               -a2*sin(theta2) - a3*(-sin(theta2)*cos(theta3) + sin(theta3)*cos(theta2)) - d4*(sin(theta2)*sin(theta3) + cos(theta2)*cos(theta3))],\n",
       "[                                                                                                                                                                                                                                                                                                                                                                           0,                                                                                                                                                                                                                                                                                                                                                                             0,                                                                                                                                                                                                                          0,                                                                                                                                                                                                                                1]])"
      ]
     },
     "execution_count": 4,
     "metadata": {},
     "output_type": "execute_result"
    }
   ],
   "source": [
    "T06"
   ]
  },
  {
   "cell_type": "code",
   "execution_count": 5,
   "metadata": {},
   "outputs": [],
   "source": [
    "tip = Matrix([0, 0, L6 ,1])"
   ]
  },
  {
   "cell_type": "code",
   "execution_count": 6,
   "metadata": {},
   "outputs": [],
   "source": [
    "M =T06 * tip"
   ]
  },
  {
   "cell_type": "code",
   "execution_count": 7,
   "metadata": {},
   "outputs": [
    {
     "data": {
      "text/plain": [
       "Matrix([\n",
       "[L6*(((-sin(theta2)*sin(theta3)*cos(theta1) + cos(theta1)*cos(theta2)*cos(theta3))*cos(theta4) - sin(theta1)*sin(theta4))*sin(theta5) + (sin(theta2)*cos(theta1)*cos(theta3) + sin(theta3)*cos(theta1)*cos(theta2))*cos(theta5)) + a2*cos(theta1)*cos(theta2) - a3*(-sin(theta2)*sin(theta3)*cos(theta1) + cos(theta1)*cos(theta2)*cos(theta3)) - d2*sin(theta1) + d3*sin(theta1) - d4*(-sin(theta2)*cos(theta1)*cos(theta3) - sin(theta3)*cos(theta1)*cos(theta2))],\n",
       "[L6*(((-sin(theta1)*sin(theta2)*sin(theta3) + sin(theta1)*cos(theta2)*cos(theta3))*cos(theta4) + sin(theta4)*cos(theta1))*sin(theta5) + (sin(theta1)*sin(theta2)*cos(theta3) + sin(theta1)*sin(theta3)*cos(theta2))*cos(theta5)) + a2*sin(theta1)*cos(theta2) - a3*(-sin(theta1)*sin(theta2)*sin(theta3) + sin(theta1)*cos(theta2)*cos(theta3)) + d2*cos(theta1) - d3*cos(theta1) - d4*(-sin(theta1)*sin(theta2)*cos(theta3) - sin(theta1)*sin(theta3)*cos(theta2))],\n",
       "[                                                                                                                                                                          L6*((-sin(theta2)*sin(theta3) - cos(theta2)*cos(theta3))*cos(theta5) + (-sin(theta2)*cos(theta3) + sin(theta3)*cos(theta2))*sin(theta5)*cos(theta4)) - a2*sin(theta2) - a3*(-sin(theta2)*cos(theta3) + sin(theta3)*cos(theta2)) - d4*(sin(theta2)*sin(theta3) + cos(theta2)*cos(theta3))],\n",
       "[                                                                                                                                                                                                                                                                                                                                                                                                                                                                 1]])"
      ]
     },
     "execution_count": 7,
     "metadata": {},
     "output_type": "execute_result"
    }
   ],
   "source": [
    "M"
   ]
  },
  {
   "cell_type": "code",
   "execution_count": null,
   "metadata": {},
   "outputs": [],
   "source": []
  }
 ],
 "metadata": {
  "kernelspec": {
   "display_name": "Python 2",
   "language": "python",
   "name": "python2"
  },
  "language_info": {
   "codemirror_mode": {
    "name": "ipython",
    "version": 2
   },
   "file_extension": ".py",
   "mimetype": "text/x-python",
   "name": "python",
   "nbconvert_exporter": "python",
   "pygments_lexer": "ipython2",
   "version": "2.7.12"
  }
 },
 "nbformat": 4,
 "nbformat_minor": 1
}
