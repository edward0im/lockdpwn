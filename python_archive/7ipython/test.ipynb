{
 "cells": [
  {
   "cell_type": "code",
   "execution_count": 1,
   "metadata": {},
   "outputs": [],
   "source": [
    "import numpy as np\n",
    "import cv2"
   ]
  },
  {
   "cell_type": "code",
   "execution_count": null,
   "metadata": {},
   "outputs": [],
   "source": [
    "def drawLines(img1, img2, lines, pts1, pts2):\n",
    "    r,c=img1.shape\n",
    "    img1 = cv2.cvtColor(img1, cv2.COLOR_GRAY2BGR)\n",
    "    img2 = cv2.cvtColor(img2, cv2.COLOR_GRAY2BGR)\n",
    "    \n",
    "    for r,pt1, pt2 in zip(lines, pts1, pts2):\n",
    "        color = tuple(np.random.randint(0,255,3).tolist())\n",
    "        x0,y0 = map(int, [0,-r[2]/r[1]])\n",
    "        x1,y1 = map(int, [c,-(r[2]+r[0]*c)/r[1]])\n",
    "        cv2.line(img1, (x0,y0), (x1,y1), color,1)\n",
    "        cv2.circle(img1, tuple(pt1),3,color,-1)\n",
    "        cv2.circle(img2,tuple(pt2),3,color,-1)\n",
    "    return img1,img2"
   ]
  },
  {
   "cell_type": "code",
   "execution_count": null,
   "metadata": {},
   "outputs": [],
   "source": [
    "def epipolar():\n",
    "    img1 = cv2.imread('images/epipolar1.jpg', cv2.IMREAD_GRAYSCALE)\n",
    "    img2=cv2.imread('images/epipolar2.jpg',cv2.IMREAD_GRAYSCALE)\n",
    "    \n",
    "    sift=cv2.xfeatures2d.SIFT_create()\n",
    "    \n",
    "    kp1,des1=sift.detectionAndCompute(img1,None)\n",
    "    kp2,des2=sift.detectionAndCompute(img2,None)"
   ]
  },
  {
   "cell_type": "code",
   "execution_count": null,
   "metadata": {},
   "outputs": [],
   "source": []
  }
 ],
 "metadata": {
  "kernelspec": {
   "display_name": "Python 3",
   "language": "python",
   "name": "python3"
  },
  "language_info": {
   "codemirror_mode": {
    "name": "ipython",
    "version": 3
   },
   "file_extension": ".py",
   "mimetype": "text/x-python",
   "name": "python",
   "nbconvert_exporter": "python",
   "pygments_lexer": "ipython3",
   "version": "3.5.4"
  }
 },
 "nbformat": 4,
 "nbformat_minor": 1
}
