{
 "cells": [
  {
   "cell_type": "code",
   "execution_count": 1,
   "metadata": {},
   "outputs": [],
   "source": [
    "#!/usr/bin/env python\n",
    "#-*- coding: utf-8 -*-\n",
    "'''\n",
    "    python ==> 소프트웨어융합최신기술 part3_2, 신호등 사진을 주면 색깔을 맞혀보는 프로젝트\n",
    "                                               정확도 & 시간을 둘 다 고려해서 모델을 맞춰야 한다\n",
    "\n",
    "                                               2 CNN & 2 Max pooling layer (2 SAME)\n",
    "                                               1 fully connected layer\n",
    "                                               drop out\n",
    "'''\n",
    "#5\n",
    "%matplotlib inline\n",
    "\n",
    "import sys, os, time\n",
    "import itertools\n",
    "import math, random\n",
    "import glob\n",
    "import tensorflow as tf\n",
    "import numpy as np\n",
    "import cv2\n",
    "from sklearn.metrics import confusion_matrix\n",
    "import matplotlib.pyplot as plt\n",
    "from IPython.display import Image, display\n",
    "import warnings\n",
    "warnings.filterwarnings('ignore')"
   ]
  },
  {
   "cell_type": "code",
   "execution_count": 2,
   "metadata": {},
   "outputs": [],
   "source": [
    "# Basic parameters\n",
    "max_epochs = 25\n",
    "base_image_path = \"5_tensorflow_traffic_light_images/\"\n",
    "image_types = [\"red\", \"green\", \"yellow\"]\n",
    "input_img_x = 32\n",
    "input_img_y = 32\n",
    "train_test_split_ratio = 0.9\n",
    "batch_size = 32\n",
    "checkpoint_name = \"./model.ckpt\"\n"
   ]
  },
  {
   "cell_type": "code",
   "execution_count": 3,
   "metadata": {},
   "outputs": [],
   "source": [
    "# Helper layer functions\n",
    "def weight_variable(shape):\n",
    "    initial = tf.truncated_normal(shape, stddev=0.1)\n",
    "    return tf.Variable(initial)\n",
    "\n",
    "def bias_variable(shape):\n",
    "    initial = tf.constant(0.1, shape=shape)\n",
    "    return tf.Variable(initial)\n",
    "\n",
    "def conv2d(x, W, stride):\n",
    "    return tf.nn.conv2d(x, W, strides=[1, stride, stride, 1], padding='SAME')\n",
    "\n",
    "def max_pool_2x2(x):\n",
    "    return tf.nn.max_pool(x, ksize=[1, 2, 2, 1],\n",
    "                        strides=[1, 2, 2, 1], padding='SAME')\n"
   ]
  },
  {
   "cell_type": "code",
   "execution_count": 4,
   "metadata": {},
   "outputs": [],
   "source": [
    "# Model\n",
    "x = tf.placeholder(tf.float32, shape=[None, input_img_x, input_img_y, 3])\n",
    "y_ = tf.placeholder(tf.float32, shape=[None, len(image_types)])"
   ]
  },
  {
   "cell_type": "code",
   "execution_count": 5,
   "metadata": {},
   "outputs": [],
   "source": [
    "# Model - THIS PART SHOULD BE SAVED SEPARATELY IN \"model.txt\" file, SO IT CAN BE RETRIEVED AUTOMATICALLY BY \"ranking.ipynb\"\n",
    "#  꼭 model.txt 파일을 사용해야하고 이름을 바꾸면 안된다!\n",
    "#  이곳에 있는 코드를 model.txt에 넣은 다음 test 코드에서 불러와서 execute(contents)를 해서 아래 코드를 실행시킨다 굳굳\n",
    "#START-------------------------------------------------------------------------\n",
    "# 2 CNN & 2 Max pooling layer (2 SAME)\n",
    "# 1 fully connected layer\n",
    "# drop out\n",
    "def conv2d_valid(x, W, stride):\n",
    "    return tf.nn.conv2d(x, W, strides=[1, stride, stride, 1], padding='VALID')\n",
    "\n",
    "# if you can type '/gpu:0' or '/cpu:0'\n",
    "with tf.device('/cpu:0'):\n",
    "    x_image = x\n",
    "\n",
    "    # 1st conv layer-----------------------------\n",
    "    W_conv1 = weight_variable([3, 3, 3, 16])\n",
    "    b_conv1 = bias_variable([16])\n",
    "\n",
    "    h_conv1 = tf.nn.relu(conv2d(x_image, W_conv1, 1) + b_conv1)\n",
    "    h_pool1 = max_pool_2x2(h_conv1) # (32,32) ==> (16,16)\n",
    "\n",
    "\n",
    "    # 2nd conv layer-----------------------------\n",
    "    W_conv2 = weight_variable([5,5,16,32])\n",
    "    b_conv2 = weight_variable([32]) \n",
    "\n",
    "    h_conv2 = tf.nn.relu(conv2d(h_pool1, W_conv2, 1) + b_conv2)\n",
    "    h_pool2 = max_pool_2x2(h_conv2) # (16,16) ==> (8,8)\n",
    "\n",
    "\n",
    "    # 1st Fully Connected layer------------------------\n",
    "    n1, n2, n3, n4 = h_pool2.get_shape().as_list()\n",
    "\n",
    "    W_fc1 = weight_variable([n2*n3*n4, 3])\n",
    "    b_fc1 = bias_variable([3])\n",
    "\n",
    "    h_pool1_flat = tf.reshape(h_pool2, [-1, n2*n3*n4]) \n",
    "\n",
    "    y= tf.matmul(h_pool1_flat, W_fc1) + b_fc1 # (4,4) ==> (3,1)\n",
    "\n",
    "    # Our loss function and optimizer\n",
    "    loss = tf.reduce_mean(tf.nn.softmax_cross_entropy_with_logits(labels = y_, logits = y))\n",
    "    train_step = tf.train.AdamOptimizer(1e-4, 0.9).minimize(loss)\n",
    "#END-------------------------------------------------------------------------\n",
    "\n",
    "\n",
    "saver = tf.train.Saver({'W_conv1' : W_conv1, 'b_conv1' : b_conv1, 'W_conv2' : W_conv2,'b_conv2' : b_conv2,  'W_fc1' : W_fc1, 'b_fc1' : b_fc1})"
   ]
  },
  {
   "cell_type": "code",
   "execution_count": 6,
   "metadata": {},
   "outputs": [
    {
     "name": "stdout",
     "output_type": "stream",
     "text": [
      "WARNING:tensorflow:From c:\\users\\edward\\anaconda3\\envs\\tf\\lib\\site-packages\\tensorflow\\python\\util\\tf_should_use.py:107: initialize_all_variables (from tensorflow.python.ops.variables) is deprecated and will be removed after 2017-03-02.\n",
      "Instructions for updating:\n",
      "Use `tf.global_variables_initializer` instead.\n"
     ]
    }
   ],
   "source": [
    "# Our loss function and optimizer\n",
    "sess = tf.InteractiveSession()\n",
    "sess.run(tf.initialize_all_variables())"
   ]
  },
  {
   "cell_type": "code",
   "execution_count": 7,
   "metadata": {},
   "outputs": [],
   "source": [
    "v_loss = least_loss = 99999999\n",
    "\n",
    "# Load data\n",
    "full_set = []\n",
    "\n",
    "# base_image_path에서 모든 이미지 데이터를 읽어온다\n",
    "for im_type in image_types:\n",
    "    for ex in glob.glob(os.path.join(base_image_path, im_type, \"*\")):\n",
    "        im = cv2.imread(ex)\n",
    "        if not im is None:\n",
    "            # 모든 이미지를 32x32로 리사이징한다\n",
    "            im = cv2.resize(im, (32, 32))\n",
    "\n",
    "            # one hot vector를 만든다 \n",
    "            # Create an array representing our classes and set it\n",
    "            one_hot_array = [0] * len(image_types)\n",
    "            one_hot_array[image_types.index(im_type)] = 1\n",
    "\n",
    "            assert(im.shape == (32, 32, 3))\n",
    "\n",
    "            full_set.append((im, one_hot_array, ex))\n",
    "\n",
    "#  모든 데이터를 받아서 랜덤으로 섞는다 \n",
    "random.shuffle(full_set)\n",
    "\n"
   ]
  },
  {
   "cell_type": "code",
   "execution_count": 8,
   "metadata": {},
   "outputs": [],
   "source": [
    "# Train set, Test set을 나누는 코드 (9:1)\n",
    "# We split our data into a training and test set here\n",
    "split_index = int(math.floor(len(full_set) * train_test_split_ratio))\n",
    "train_set = full_set[:split_index]\n",
    "test_set = full_set[split_index:]\n",
    "\n",
    "# We ensure that our training and test sets are a multiple of batch size\n",
    "train_set_offset = len(train_set) % batch_size\n",
    "test_set_offset = len(test_set) % batch_size\n",
    "train_set = train_set[: len(train_set) - train_set_offset]\n",
    "test_set = test_set[: len(test_set) - test_set_offset]\n",
    "\n",
    "train_x, train_y, train_z = zip(*train_set)\n",
    "test_x, test_y, test_z = zip(*test_set)\n"
   ]
  },
  {
   "cell_type": "code",
   "execution_count": 11,
   "metadata": {},
   "outputs": [
    {
     "name": "stdout",
     "output_type": "stream",
     "text": [
      "Starting training... [1312 training examples]\n",
      "Epoch     1: loss:    0.1140425131, val. loss:    0.5875147581, saving new best model to ./model.ckpt\n",
      "Epoch     2: loss:    0.3003812134, val. loss:    0.7594460249\n",
      "Epoch     3: loss:    0.2462198138, val. loss:    0.7016215324\n",
      "Epoch     4: loss:    0.0514584295, val. loss:    0.5475843549, saving new best model to ./model.ckpt\n",
      "Epoch     5: loss:    0.2683818042, val. loss:    0.6724276543\n",
      "Epoch     6: loss:    0.3689961731, val. loss:    0.8223484755\n",
      "Epoch     7: loss:    0.3428547084, val. loss:    0.7536970973\n",
      "Epoch     8: loss:    0.0316327214, val. loss:    0.5524554849\n",
      "Epoch     9: loss:    0.0558923297, val. loss:    0.5435688496, saving new best model to ./model.ckpt\n",
      "Epoch    10: loss:    0.0750845596, val. loss:    0.5603680611\n",
      "Epoch    11: loss:    0.2901585400, val. loss:    0.6923329830\n",
      "Epoch    12: loss:    0.1377433985, val. loss:    0.6181033850\n",
      "Epoch    13: loss:    0.0308018420, val. loss:    0.5057134032, saving new best model to ./model.ckpt\n",
      "Epoch    14: loss:    0.2178236544, val. loss:    0.6365132928\n",
      "Epoch    15: loss:    0.1499239355, val. loss:    0.5998100638\n",
      "Epoch    16: loss:    0.0083611589, val. loss:    0.4873464406, saving new best model to ./model.ckpt\n",
      "Epoch    17: loss:    0.2143391818, val. loss:    0.6370012164\n",
      "Epoch    18: loss:    0.1961412132, val. loss:    0.5843386054\n",
      "Epoch    19: loss:    0.0773609504, val. loss:    0.4817253053, saving new best model to ./model.ckpt\n",
      "Epoch    20: loss:    0.0198809411, val. loss:    0.4302684069, saving new best model to ./model.ckpt\n",
      "Epoch    21: loss:    0.2751536369, val. loss:    1.1468124390\n",
      "Epoch    22: loss:    0.0143521847, val. loss:    0.4247127771, saving new best model to ./model.ckpt\n",
      "Epoch    23: loss:    0.2123521417, val. loss:    0.5233453512\n",
      "Epoch    24: loss:    0.1306899488, val. loss:    0.3684205115, saving new best model to ./model.ckpt\n",
      "Epoch    25: loss:    0.0038309987, val. loss:    0.2623183727, saving new best model to ./model.ckpt\n"
     ]
    }
   ],
   "source": [
    "print(\"Starting training... [{} training examples]\".format(len(train_x)))\n",
    "v_loss = 9999999\n",
    "train_loss = []\n",
    "val_loss = []\n",
    "\n",
    "\n",
    "for i in range(0, max_epochs):\n",
    "    # Iterate over our training set\n",
    "    for tt in range(0, (len(train_x) // batch_size)):\n",
    "        start_batch = batch_size * tt\n",
    "        end_batch = batch_size * (tt + 1)\n",
    "        train_step.run(feed_dict={x: train_x[start_batch:end_batch], y_: train_y[start_batch:end_batch]})\n",
    "        #ex_seen = \"Current epoch, examples seen: {:20} / {} \\r\\n\".format(tt * batch_size, len(train_x))\n",
    "        #sys.stdout.write(ex_seen.format(tt * batch_size))\n",
    "        #sys.stdout.flush()\n",
    "\n",
    "    #ex_seen = \"Current epoch, examples seen: {:20} / {} \\r\\n\".format((tt + 1) * batch_size, len(train_x))\n",
    "    #sys.stdout.write(ex_seen.format(tt * batch_size))\n",
    "    #sys.stdout.flush()\n",
    "\n",
    "    t_loss = loss.eval(feed_dict={x: train_x, y_: train_y})\n",
    "    v_loss = loss.eval(feed_dict={x: test_x, y_: test_y})\n",
    "    \n",
    "    train_loss.append(t_loss)\n",
    "    val_loss.append(v_loss)\n",
    "\n",
    "    sys.stdout.write(\"Epoch {:5}: loss: {:15.10f}, val. loss: {:15.10f}\".format(i + 1, t_loss, v_loss))\n",
    "\n",
    "    #  v_loss가 제일 낮을 경우에만 파라미터를 저장한다\n",
    "    if v_loss < least_loss:\n",
    "        sys.stdout.write(\", saving new best model to {}\".format(checkpoint_name))\n",
    "        least_loss = v_loss\n",
    "        filename = saver.save(sess, checkpoint_name)\n",
    "\n",
    "    sys.stdout.write(\"\\n\")\n"
   ]
  },
  {
   "cell_type": "code",
   "execution_count": 17,
   "metadata": {
    "scrolled": true
   },
   "outputs": [
    {
     "data": {
      "image/png": "[encoded data removed]",
      "text/plain": [
       "<matplotlib.figure.Figure at 0x15b168e02e8>"
      ]
     },
     "metadata": {},
     "output_type": "display_data"
    }
   ],
   "source": [
    "# ed: 윗부분까지가 사실상 끝난 것이다. 아랫부분은 analyze 부분\n",
    "\n",
    "plt.figure()\n",
    "plt.xticks(np.arange(0, len(train_loss), 1.0))\n",
    "plt.ylabel(\"Loss\")\n",
    "plt.xlabel(\"Epochs\")\n",
    "train_line = plt.plot(range(0, len(train_loss)), train_loss, 'r', label=\"Train loss\")\n",
    "val_line = plt.plot(range(0, len(val_loss)), val_loss, 'g', label=\"Validation loss\")\n",
    "plt.legend()\n",
    "plt.show()"
   ]
  },
  {
   "cell_type": "markdown",
   "metadata": {},
   "source": [
    "Let's print the examples from our test set that were wrong:"
   ]
  },
  {
   "cell_type": "code",
   "execution_count": 18,
   "metadata": {},
   "outputs": [
    {
     "name": "stdout",
     "output_type": "stream",
     "text": [
      "Actual: yellow, predicted: red\n"
     ]
    },
    {
     "data": {
      "image/jpeg": "[encoded data removed]",
      "text/plain": [
       "<IPython.core.display.Image object>"
      ]
     },
     "metadata": {},
     "output_type": "display_data"
    },
    {
     "name": "stdout",
     "output_type": "stream",
     "text": [
      "Actual: red, predicted: green\n"
     ]
    },
    {
     "data": {
      "image/jpeg": "[encoded data removed]",
      "text/plain": [
       "<IPython.core.display.Image object>"
      ]
     },
     "metadata": {},
     "output_type": "display_data"
    }
   ],
   "source": [
    "zipped_x_y = list(zip(test_x, test_y))\n",
    "conf_true = []\n",
    "conf_pred = []\n",
    "for tt in range(0, len(zipped_x_y)):\n",
    "    q = zipped_x_y[tt]\n",
    "    sfmax = list(sess.run(tf.nn.softmax(y.eval(feed_dict={x: [q[0]]})))[0])\n",
    "    sf_ind = sfmax.index(max(sfmax))\n",
    "    \n",
    "    predicted_label = image_types[sf_ind]\n",
    "    actual_label = image_types[q[1].index(max(q[1]))]\n",
    "    \n",
    "    conf_true.append(actual_label)\n",
    "    conf_pred.append(predicted_label)\n",
    "    \n",
    "    if predicted_label != actual_label:\n",
    "        print(\"Actual: {}, predicted: {}\".format(actual_label, predicted_label))\n",
    "        img_path = test_z[tt]    \n",
    "        ex_img = Image(filename=img_path)\n",
    "        display(ex_img)"
   ]
  },
  {
   "cell_type": "code",
   "execution_count": 19,
   "metadata": {},
   "outputs": [
    {
     "data": {
      "image/png": "[encoded data removed]",
      "text/plain": [
       "<matplotlib.figure.Figure at 0x15b16894828>"
      ]
     },
     "metadata": {},
     "output_type": "display_data"
    }
   ],
   "source": [
    "# From sklearn docs\n",
    "def plot_confusion_matrix(cm, classes,\n",
    "                          normalize=False,\n",
    "                          title='Confusion matrix',\n",
    "                          cmap=plt.cm.Blues):\n",
    "    \"\"\"\n",
    "    This function prints and plots the confusion matrix.\n",
    "    Normalization can be applied by setting `normalize=True`.\n",
    "    \"\"\"\n",
    "    plt.imshow(cm, interpolation='nearest', cmap=cmap)\n",
    "    plt.title(title)\n",
    "    plt.colorbar()\n",
    "    tick_marks = np.arange(len(classes))\n",
    "    plt.xticks(tick_marks, classes, rotation=45)\n",
    "    plt.yticks(tick_marks, classes)\n",
    "\n",
    "    cm2 = cm.astype('float') / cm.sum(axis=1)[:, np.newaxis]\n",
    "\n",
    "    cm2 = np.around(cm2, 2)\n",
    "\n",
    "    thresh = cm.max() / 2.\n",
    "    for i, j in itertools.product(range(cm.shape[0]), range(cm.shape[1])):\n",
    "        plt.text(j, i, str(cm[i, j]) + \" / \" + str(cm2[i, j]),\n",
    "                 horizontalalignment=\"center\",\n",
    "                 color=\"white\" if cm[i, j] > thresh else \"black\")\n",
    "\n",
    "    plt.tight_layout()\n",
    "    plt.ylabel('True label')\n",
    "    plt.xlabel('Predicted label')\n",
    "\n",
    "cnf_matrix = confusion_matrix(conf_true, conf_pred)\n",
    "plt.figure()\n",
    "plot_confusion_matrix(cnf_matrix, classes=image_types, normalize=False,\n",
    "                      title='Normalized confusion matrix')\n",
    "plt.show()"
   ]
  },
  {
   "cell_type": "code",
   "execution_count": null,
   "metadata": {},
   "outputs": [],
   "source": []
  }
 ],
 "metadata": {
  "kernelspec": {
   "display_name": "Python 3",
   "language": "python",
   "name": "python3"
  },
  "language_info": {
   "codemirror_mode": {
    "name": "ipython",
    "version": 3
   },
   "file_extension": ".py",
   "mimetype": "text/x-python",
   "name": "python",
   "nbconvert_exporter": "python",
   "pygments_lexer": "ipython3",
   "version": "3.5.4"
  }
 },
 "nbformat": 4,
 "nbformat_minor": 2
}
