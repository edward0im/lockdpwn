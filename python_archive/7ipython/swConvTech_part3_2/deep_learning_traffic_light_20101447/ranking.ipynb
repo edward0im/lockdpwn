{
 "cells": [
  {
   "cell_type": "code",
   "execution_count": 1,
   "metadata": {},
   "outputs": [],
   "source": [
    "#!/usr/bin/python2\n",
    "\n",
    "%matplotlib inline\n",
    "\n",
    "import sys, os, time\n",
    "import itertools\n",
    "import math, random\n",
    "import glob\n",
    "import tensorflow as tf\n",
    "import numpy as np\n",
    "import cv2\n",
    "from sklearn.metrics import confusion_matrix\n",
    "import matplotlib.pyplot as plt\n",
    "from IPython.display import Image, display\n",
    "import warnings\n",
    "warnings.filterwarnings('ignore')"
   ]
  },
  {
   "cell_type": "code",
   "execution_count": 2,
   "metadata": {},
   "outputs": [],
   "source": [
    "# Basic parameters\n",
    "base_image_path = \"test_images/\"\n",
    "image_types = [\"red\", \"green\", \"yellow\"]\n",
    "input_img_x = 32\n",
    "input_img_y = 32\n",
    "batch_size = 32\n",
    "student_id = \"20101447\"\n",
    "\n",
    "base_work_dir = \"../deep_learning_traffic_light_%s\" % (student_id)\n",
    "checkpoint_name = \"%s/model.ckpt\" % (base_work_dir)\n"
   ]
  },
  {
   "cell_type": "code",
   "execution_count": 3,
   "metadata": {},
   "outputs": [],
   "source": [
    "# Helper layer functions\n",
    "def weight_variable(shape):\n",
    "    initial = tf.truncated_normal(shape, stddev=0.1)\n",
    "    return tf.Variable(initial)\n",
    "\n",
    "def bias_variable(shape):\n",
    "    initial = tf.constant(0.1, shape=shape)\n",
    "    return tf.Variable(initial)\n",
    "\n",
    "def conv2d(x, W, stride):\n",
    "    return tf.nn.conv2d(x, W, strides=[1, stride, stride, 1], padding='SAME')\n",
    "\n",
    "def max_pool_2x2(x):\n",
    "    return tf.nn.max_pool(x, ksize=[1, 2, 2, 1],\n",
    "                        strides=[1, 2, 2, 1], padding='SAME')\n"
   ]
  },
  {
   "cell_type": "code",
   "execution_count": 4,
   "metadata": {},
   "outputs": [],
   "source": [
    "x = tf.placeholder(tf.float32, shape=[None, input_img_x, input_img_y, 3])"
   ]
  },
  {
   "cell_type": "code",
   "execution_count": 5,
   "metadata": {},
   "outputs": [],
   "source": [
    "# Model - THIS PART WILL BE REPLACED WITH THE CONTENTS IN model.txt.\n",
    "\n",
    "contents = open('%s/model.txt' % (base_work_dir), 'r').read()\n",
    "exec(contents)"
   ]
  },
  {
   "cell_type": "code",
   "execution_count": 6,
   "metadata": {},
   "outputs": [],
   "source": [
    "# LOAD TEST SET\n",
    "\n",
    "test_set = []\n",
    "\n",
    "for im_type in image_types:\n",
    "    for ex in glob.glob(os.path.join(base_image_path, im_type, \"*\")):\n",
    "        im = cv2.imread(ex)\n",
    "        if not im is None:\n",
    "            im = cv2.resize(im, (32, 32))\n",
    "\n",
    "            # Create an array representing our classes and set it\n",
    "            one_hot_array = [0] * len(image_types)\n",
    "            one_hot_array[image_types.index(im_type)] = 1\n",
    "\n",
    "            assert(im.shape == (32, 32, 3))\n",
    "\n",
    "            test_set.append((im, one_hot_array, ex))\n",
    "\n",
    "test_x, test_y, test_z = zip(*test_set)"
   ]
  },
  {
   "cell_type": "code",
   "execution_count": 8,
   "metadata": {},
   "outputs": [
    {
     "name": "stdout",
     "output_type": "stream",
     "text": [
      "INFO:tensorflow:Restoring parameters from ../deep_learning_traffic_light_20101447/model.ckpt\n",
      "Model restored.\n",
      "Accuracy = 0.954545, Time = 0.399094 sec\n",
      "Slope = 1.138944\n"
     ]
    }
   ],
   "source": [
    "# TEST ---------------------------------------------------------------------------------\n",
    "zipped_x_y = list(zip(test_x, test_y))\n",
    "conf_true = []\n",
    "conf_pred = []\n",
    "total_count = 0\n",
    "correct_count = 0\n",
    "\n",
    "start = time.time()\n",
    "\n",
    "with tf.Session() as sess:\n",
    "    saver.restore(sess, checkpoint_name)\n",
    "#    optimistic_restore(sess, checkpoint_name)\n",
    "    print(\"Model restored.\")\n",
    "\n",
    "    for tt in range(0, len(zipped_x_y)):\n",
    "        q = zipped_x_y[tt]\n",
    "        sfmax = list(sess.run(tf.nn.softmax(y.eval(feed_dict={x: [q[0]]})))[0])\n",
    "        sf_ind = sfmax.index(max(sfmax))\n",
    "\n",
    "        predicted_label = image_types[sf_ind]\n",
    "        actual_label = image_types[q[1].index(max(q[1]))]\n",
    "\n",
    "        if predicted_label == actual_label:\n",
    "            correct_count = correct_count + 1\n",
    "\n",
    "        total_count = total_count + 1\n",
    "        if total_count % 100 == 0:\n",
    "            print(total_count)\n",
    "\n",
    "end = time.time()\n",
    "accuracy = correct_count / total_count\n",
    "timeTaken = end - start\n",
    "print(\"Accuracy = %.6f, Time = %.6f sec\" % (accuracy, timeTaken))\n",
    "print(\"Slope = %.6f\" % ((accuracy - 0.5) / timeTaken))"
   ]
  },
  {
   "cell_type": "code",
   "execution_count": null,
   "metadata": {},
   "outputs": [],
   "source": []
  },
  {
   "cell_type": "code",
   "execution_count": null,
   "metadata": {},
   "outputs": [],
   "source": []
  }
 ],
 "metadata": {
  "kernelspec": {
   "display_name": "Python 3",
   "language": "python",
   "name": "python3"
  },
  "language_info": {
   "codemirror_mode": {
    "name": "ipython",
    "version": 3
   },
   "file_extension": ".py",
   "mimetype": "text/x-python",
   "name": "python",
   "nbconvert_exporter": "python",
   "pygments_lexer": "ipython3",
   "version": "3.5.4"
  }
 },
 "nbformat": 4,
 "nbformat_minor": 2
}
