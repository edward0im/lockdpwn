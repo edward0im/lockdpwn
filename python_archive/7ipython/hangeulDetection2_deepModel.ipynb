{
 "cells": [
  {
   "cell_type": "code",
   "execution_count": 1,
   "metadata": {
    "collapsed": true
   },
   "outputs": [],
   "source": [
    "import h5py\n",
    "import matplotlib.pyplot as plt\n",
    "import numpy as np\n",
    "import tensorflow as tf\n",
    "import scipy.misc\n",
    "import scipy.io\n",
    "import random"
   ]
  },
  {
   "cell_type": "code",
   "execution_count": 2,
   "metadata": {
    "collapsed": true
   },
   "outputs": [],
   "source": [
    "#-----------------------------------------------------------------\n",
    "# train\n",
    "train_images = []\n",
    "tlabels = []\n",
    "\n",
    "# train Image 데이터 700장을 불러온다\n",
    "# train Label 데이터를 불러온다\n",
    "with h5py.File('kalph_train.hf', 'r') as hf:\n",
    "    train_images = np.array(hf['images'])\n",
    "    tlabels = np.array(hf['labels'])\n",
    "\n",
    "\n",
    "# Image 데이터와 Label 데이터를 numpy 데이터로 수정한다\n",
    "train_images = train_images.reshape(19600, 2704, )\n",
    "\n",
    "\n",
    "# train Label 데이터를 [1 x 100] 의 행렬로 표현한다\n",
    "#           예를 들어 3이면 [0,0,1,0,.....,0] 과 같이 설정한다\n",
    "train_labels  = np.array(np.zeros(274400).reshape(19600,14))\n",
    "for num in range(0,19600):\n",
    "    train_labels[num][int(tlabels[num]) - 1] = 1\n",
    "\n",
    "\n",
    "\n",
    "#-----------------------------------------------------------------\n",
    "# test\n",
    "test_images = []\n",
    "testlabels = []\n",
    "\n",
    "\n",
    "# train Image 데이터 700장을 불러온다\n",
    "# train Label 데이터를 불러온다\n",
    "with h5py.File('kalph_test.hf', 'r') as hf:\n",
    "    test_images = np.array(hf['images'])\n",
    "    testlabels = np.array(hf['labels'])\n",
    "\n",
    "\n",
    "\n",
    "# Image 데이터와 Label 데이터를 numpy 데이터로 수정한다\n",
    "test_images = test_images.reshape(3920, 2704, )\n",
    "\n",
    "# train Label 데이터를 [1 x 100] 의 행렬로 표현한다\n",
    "#           예를 들어 3이면 [0,0,1,0,.....,0] 과 같이 설정한다\n",
    "test_labels  = np.array(np.zeros(58440).reshape(3920,14))\n",
    "for num in range(0,3920):\n",
    "    test_labels[num][int(testlabels[num]) - 1] = 1\n",
    "\n",
    "\n",
    "# 중요! Image 데이터들은 0~255 사이의 값이므로 255로 나눠주면서 정규화를 한다. 학습이 매우 잘된다\n",
    "train_images = train_images / 255.\n",
    "test_images =  test_images / 255.\n"
   ]
  },
  {
   "cell_type": "code",
   "execution_count": 3,
   "metadata": {
    "collapsed": true
   },
   "outputs": [],
   "source": [
    "#-----------------------------------------------------------------\n",
    "\n",
    "_num_examples, bins = train_images.shape\n",
    "# _num_examples : 데이터 갯수\n",
    "\n",
    "_index_in_epoch = 0   # epoch\n",
    "_images = train_images  # Image 변수 \n",
    "_labels = train_labels  # Label 변수\n",
    "_epochs_completed = 0   \n",
    "\n",
    "# batch 연산을 수행하는 함수\n",
    "# 호출될 때마다 랜덤으로 batch_size의 (Image, Label) 데이터를 반환한다\n",
    "def next_batch(batch_size):\n",
    "    \"\"\"Return the next `batch_size` examples from this data set.\"\"\"\n",
    "    global _index_in_epoch\n",
    "    global _images\n",
    "    global _labels\n",
    "    global _epochs_completed\n",
    "\n",
    "    start = _index_in_epoch\n",
    "    _index_in_epoch += batch_size\n",
    "\n",
    "    if _index_in_epoch > _num_examples:\n",
    "      # Finished epoch\n",
    "      _epochs_completed += 1\n",
    "\n",
    "      # Shuffle the data\n",
    "      perm = np.arange(_num_examples)\n",
    "      np.random.shuffle(perm)\n",
    "      _images = _images[perm]\n",
    "      _labels = _labels[perm]\n",
    "\n",
    "      # Start next epoch\n",
    "      start = 0\n",
    "      _index_in_epoch = batch_size\n",
    "      assert batch_size <= _num_examples\n",
    "\n",
    "    end = _index_in_epoch\n",
    "    return _images[start:end], _labels[start:end]\n",
    "\n",
    "\n",
    "# 가중치를 초기화하는 함수 (정규분포 stddev=0.1로 초기화한다)\n",
    "def weight_variable(shape):\n",
    "\tinitial = tf.truncated_normal(shape, stddev=0.1)\n",
    "\treturn tf.Variable(initial)\n",
    "\n",
    "\n",
    "# 바이어스를 초기화하는 함수 (0.1로 초기화한다)\n",
    "def bias_variable(shape):\n",
    "\tinitial = tf.constant(0.1, shape=shape)\n",
    "\treturn tf.Variable(initial)\n",
    "\n",
    "\n"
   ]
  },
  {
   "cell_type": "code",
   "execution_count": 4,
   "metadata": {
    "collapsed": true
   },
   "outputs": [],
   "source": [
    "#-----------------------------------------------------------------\n",
    "# Tensorflow 코드\n",
    "#-----------------------------------------------------------------\n",
    "\n",
    "# None 은 내가 얼만큼의 데이터를 넣을지 안 정했을 때 사용한다\n",
    "x_input = tf.placeholder(tf.float32, [None, 2704])\n",
    "y_input = tf.placeholder(tf.float32, [None, 14])\n",
    "\n",
    "# 신경망 파라미터들 y = x*w + b\n",
    "W = tf.Variable(tf.zeros([2704, 14]))\n",
    "b = tf.Variable(tf.zeros([14]))\n",
    "y = tf.matmul(x_input , W ) + b\n",
    "\n",
    "\n",
    "# softmax 알고리즘을 실행해서 y값을 최적화하고 cross_entropy를 정의한다\n",
    "# softmax : 값을 0 ~ 1사이로 정규화시키는 함수 (총합은 1이 되도록 정규화하므로 확률로 변경하는 것과 같다)\n",
    "y = tf.nn.softmax(y)\n",
    "cross_entropy = tf.reduce_mean(tf.nn.softmax_cross_entropy_with_logits(labels=y_input, logits=y))\n",
    "\n",
    "# Gradient Descent 알고리즘을 사용해서 cross_entropy를 최소화한다. 학습율은 0.5\n",
    "train_step = tf.train.GradientDescentOptimizer(0.5).minimize(cross_entropy)\n",
    "\n",
    "\n",
    "\n",
    "# 세션을 초기화한다\n",
    "sess = tf.InteractiveSession()\n",
    "sess.run(tf.global_variables_initializer())\n",
    "\n",
    "\n",
    "# 정답률을 계산한다  y_conv  vs  y\n",
    "correct_prediction = tf.equal(tf.argmax(y_input, 1), tf.argmax(y, 1))\n",
    "accuracy = tf.reduce_mean(tf.cast(correct_prediction, tf.float32))\n",
    "\n",
    "\n"
   ]
  },
  {
   "cell_type": "code",
   "execution_count": 44,
   "metadata": {},
   "outputs": [
    {
     "name": "stdout",
     "output_type": "stream",
     "text": [
      "step 0 training_accuracy 0.98 cost 0.0527314\n",
      "step 200 training_accuracy 1.0 cost 0.0291989\n",
      "step 400 training_accuracy 0.98 cost 0.0366447\n",
      "step 600 training_accuracy 1.0 cost 0.039706\n",
      "step 800 training_accuracy 0.98 cost 0.0744977\n",
      "step 1000 training_accuracy 1.0 cost 0.00642066\n",
      "step 1200 training_accuracy 1.0 cost 0.0144326\n",
      "step 1400 training_accuracy 1.0 cost 0.0120197\n",
      "step 1600 training_accuracy 0.98 cost 0.0291981\n",
      "step 1800 training_accuracy 1.0 cost 0.0133996\n",
      "step 2000 training_accuracy 1.0 cost 0.0152825\n",
      "step 2200 training_accuracy 1.0 cost 0.005904\n",
      "step 2400 training_accuracy 1.0 cost 0.0132553\n",
      "step 2600 training_accuracy 1.0 cost 0.0227472\n",
      "step 2800 training_accuracy 1.0 cost 0.00524781\n",
      "step 3000 training_accuracy 1.0 cost 0.0154982\n",
      "step 3200 training_accuracy 1.0 cost 0.00565141\n",
      "step 3400 training_accuracy 1.0 cost 0.00427606\n",
      "step 3600 training_accuracy 1.0 cost 0.0244521\n",
      "step 3800 training_accuracy 1.0 cost 0.0160789\n",
      "step 4000 training_accuracy 1.0 cost 0.00113297\n",
      "step 4200 training_accuracy 1.0 cost 0.0152522\n",
      "step 4400 training_accuracy 1.0 cost 0.00373572\n",
      "step 4600 training_accuracy 1.0 cost 0.00450542\n",
      "step 4800 training_accuracy 1.0 cost 0.000841632\n",
      "step 5000 training_accuracy 1.0 cost 0.000798004\n",
      "step 5200 training_accuracy 1.0 cost 0.00143734\n",
      "step 5400 training_accuracy 1.0 cost 0.00344689\n",
      "step 5600 training_accuracy 1.0 cost 0.00324419\n",
      "step 5800 training_accuracy 1.0 cost 0.00160193\n",
      "step 6000 training_accuracy 1.0 cost 0.00264461\n",
      "step 6200 training_accuracy 1.0 cost 0.00549935\n",
      "step 6400 training_accuracy 1.0 cost 0.00202581\n",
      "step 6600 training_accuracy 1.0 cost 0.00167482\n",
      "step 6800 training_accuracy 1.0 cost 0.000355277\n",
      "step 7000 training_accuracy 1.0 cost 0.00418886\n",
      "step 7200 training_accuracy 1.0 cost 0.00294184\n",
      "step 7400 training_accuracy 1.0 cost 0.00152664\n",
      "step 7600 training_accuracy 1.0 cost 0.00264296\n",
      "step 7800 training_accuracy 1.0 cost 0.000728152\n",
      "step 8000 training_accuracy 1.0 cost 0.00107704\n",
      "step 8200 training_accuracy 1.0 cost 0.000915307\n",
      "step 8400 training_accuracy 1.0 cost 0.00370444\n",
      "step 8600 training_accuracy 1.0 cost 0.00976541\n",
      "step 8800 training_accuracy 1.0 cost 0.000407933\n",
      "step 9000 training_accuracy 1.0 cost 0.00136577\n",
      "step 9200 training_accuracy 1.0 cost 0.000454979\n",
      "step 9400 training_accuracy 1.0 cost 0.00127956\n",
      "step 9600 training_accuracy 1.0 cost 0.000766725\n",
      "step 9800 training_accuracy 1.0 cost 0.00100637\n"
     ]
    }
   ],
   "source": [
    "#----------------------------------------------\n",
    "batch_size = 50      # 한 루프에 몇개의 (Image, Label) 데이터를 학습하는지 설정\n",
    "display_step = 200    # 루프를 돌면서 화면에 표시할 빈도 설정\n",
    "\n",
    "for i in range(10000):\n",
    "\tcostVal = 0.\n",
    "\tbatch = next_batch(batch_size)\n",
    "    \n",
    "\t# 200번 돌릴 때마다 결과를 확인한다\n",
    "\tif i % display_step == 0:\n",
    "\t\ttrain_accuracy = sess.run(accuracy,feed_dict={x:batch[0], y:batch[1], keep_prob:1.0})\n",
    "\t\tcostVal = sess.run(cross_entropy, feed_dict={x: batch[0], y: batch[1], keep_prob:1.0})\n",
    "    \n",
    "\t\tprint('step', i , 'training_accuracy', train_accuracy,'cost', costVal)\n",
    "        \n",
    "        # 실제 학습과정 함수, dropout 50%를 토대로 학습한다\n",
    "        \n",
    "        \n",
    "\tsess.run(train_step,feed_dict={x:batch[0],y:batch[1], keep_prob:0.5})\n",
    "\n",
    "\n",
    "\n"
   ]
  },
  {
   "cell_type": "code",
   "execution_count": 45,
   "metadata": {},
   "outputs": [
    {
     "name": "stdout",
     "output_type": "stream",
     "text": [
      "test accuracy 0.765561\n"
     ]
    }
   ],
   "source": [
    "# 전부 학습이 끝나면 테스트 데이터를 넣어 정확도를 계산한다\n",
    "test_accuracy = sess.run(accuracy,feed_dict={x: test_images, y: test_labels, keep_prob: 1.0})\n",
    "print('test accuracy', test_accuracy)"
   ]
  },
  {
   "cell_type": "code",
   "execution_count": 56,
   "metadata": {},
   "outputs": [
    {
     "name": "stdout",
     "output_type": "stream",
     "text": [
      "save_path ./hangeul1.pd\n"
     ]
    }
   ],
   "source": [
    "# 학습된 가중치들을 저장한다\n",
    "saver = tf.train.Saver()\n",
    "save_path = saver.save(sess,'./hangeul1')\n",
    "print('save_path', save_path)"
   ]
  },
  {
   "cell_type": "code",
   "execution_count": 54,
   "metadata": {},
   "outputs": [
    {
     "name": "stdout",
     "output_type": "stream",
     "text": [
      "Label:  [12]\n",
      "Prediction:  [12]\n"
     ]
    },
    {
     "data": {
      "image/png": "[encoded data removed]",
      "text/plain": [
       "<matplotlib.figure.Figure at 0x12a378d0>"
      ]
     },
     "metadata": {},
     "output_type": "display_data"
    }
   ],
   "source": [
    "#----------------------------------------------\n",
    "# 임의의 얼굴 하나를 출력한 다음 맞혀보는 코드 \n",
    "test_num_examples , bin2 = test_images.shape\n",
    "r = random.randint(0, test_num_examples -1)\n",
    "print (\"Label: \", sess.run(tf.argmax(test_labels[r:r+1], 1)))\n",
    "print (\"Prediction: \", sess.run(tf.argmax(y_conv, 1), {x:test_images[r:r+1], keep_prob:1.0}))\n",
    "\n",
    "plt.imshow(test_images[r:r+1].reshape(52, 52), cmap='gray_r', interpolation='nearest')\n",
    "plt.show()\n",
    "\n"
   ]
  },
  {
   "cell_type": "code",
   "execution_count": null,
   "metadata": {
    "collapsed": true
   },
   "outputs": [],
   "source": []
  },
  {
   "cell_type": "code",
   "execution_count": null,
   "metadata": {
    "collapsed": true
   },
   "outputs": [],
   "source": []
  }
 ],
 "metadata": {
  "kernelspec": {
   "display_name": "Python 3",
   "language": "python",
   "name": "python3"
  },
  "language_info": {
   "codemirror_mode": {
    "name": "ipython",
    "version": 3
   },
   "file_extension": ".py",
   "mimetype": "text/x-python",
   "name": "python",
   "nbconvert_exporter": "python",
   "pygments_lexer": "ipython3",
   "version": "3.5.3"
  }
 },
 "nbformat": 4,
 "nbformat_minor": 2
}
