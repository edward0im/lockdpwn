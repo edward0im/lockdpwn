{
 "cells": [
  {
   "cell_type": "code",
   "execution_count": 1,
   "metadata": {
    "collapsed": true
   },
   "outputs": [],
   "source": [
    "%matplotlib inline\n",
    "import pandas as pd\n",
    "import numpy as np\n",
    "import matplotlib.pyplot as plt\n",
    "\n",
    "df = pd.read_csv('/home/stud/Desktop/kddcup_subset.csv')"
   ]
  },
  {
   "cell_type": "code",
   "execution_count": 2,
   "metadata": {
    "collapsed": true
   },
   "outputs": [
    {
     "data": {
      "text/plain": [
       "0    1\n",
       "1    2\n",
       "2    1\n",
       "3    2\n",
       "4    3\n",
       "5    4\n",
       "6    5\n",
       "7    6\n",
       "8    7\n",
       "9    8\n",
       "Name: V23, dtype: int64"
      ]
     },
     "execution_count": 2,
     "metadata": {},
     "output_type": "execute_result"
    }
   ],
   "source": [
    "df['V23'].head(10)"
   ]
  },
  {
   "cell_type": "code",
   "execution_count": 3,
   "metadata": {
    "collapsed": true
   },
   "outputs": [
    {
     "name": "stdout",
     "output_type": "stream",
     "text": [
      "<class 'pandas.core.frame.DataFrame'>\n",
      "RangeIndex: 1010 entries, 0 to 1009\n",
      "Data columns (total 43 columns):\n",
      "Unnamed: 0    1010 non-null int64\n",
      "V1            1010 non-null int64\n",
      "V2            1010 non-null object\n",
      "V3            1010 non-null object\n",
      "V4            1010 non-null object\n",
      "V5            1010 non-null int64\n",
      "V6            1010 non-null int64\n",
      "V7            1010 non-null int64\n",
      "V8            1010 non-null int64\n",
      "V9            1010 non-null int64\n",
      "V10           1010 non-null int64\n",
      "V11           1010 non-null int64\n",
      "V12           1010 non-null int64\n",
      "V13           1010 non-null int64\n",
      "V14           1010 non-null int64\n",
      "V15           1010 non-null int64\n",
      "V16           1010 non-null int64\n",
      "V17           1010 non-null int64\n",
      "V18           1010 non-null int64\n",
      "V19           1010 non-null int64\n",
      "V20           1010 non-null int64\n",
      "V21           1010 non-null int64\n",
      "V22           1010 non-null int64\n",
      "V23           1010 non-null int64\n",
      "V24           1010 non-null int64\n",
      "V25           1010 non-null int64\n",
      "V26           1010 non-null int64\n",
      "V27           1010 non-null int64\n",
      "V28           1010 non-null int64\n",
      "V29           1010 non-null int64\n",
      "V30           1010 non-null int64\n",
      "V31           1010 non-null float64\n",
      "V32           1010 non-null int64\n",
      "V33           1010 non-null int64\n",
      "V34           1010 non-null float64\n",
      "V35           1010 non-null float64\n",
      "V36           1010 non-null float64\n",
      "V37           1010 non-null float64\n",
      "V38           1010 non-null int64\n",
      "V39           1010 non-null int64\n",
      "V40           1010 non-null int64\n",
      "V41           1010 non-null int64\n",
      "V42           1010 non-null object\n",
      "dtypes: float64(5), int64(34), object(4)\n",
      "memory usage: 339.4+ KB\n"
     ]
    }
   ],
   "source": [
    "df.info()"
   ]
  },
  {
   "cell_type": "code",
   "execution_count": 4,
   "metadata": {
    "collapsed": true
   },
   "outputs": [
    {
     "data": {
      "text/html": [
       "<div>\n",
       "<table border=\"1\" class=\"dataframe\">\n",
       "  <thead>\n",
       "    <tr style=\"text-align: right;\">\n",
       "      <th></th>\n",
       "      <th>Unnamed: 0</th>\n",
       "      <th>V1</th>\n",
       "      <th>V5</th>\n",
       "      <th>V6</th>\n",
       "      <th>V7</th>\n",
       "      <th>V8</th>\n",
       "      <th>V9</th>\n",
       "      <th>V10</th>\n",
       "      <th>V11</th>\n",
       "      <th>V12</th>\n",
       "      <th>...</th>\n",
       "      <th>V32</th>\n",
       "      <th>V33</th>\n",
       "      <th>V34</th>\n",
       "      <th>V35</th>\n",
       "      <th>V36</th>\n",
       "      <th>V37</th>\n",
       "      <th>V38</th>\n",
       "      <th>V39</th>\n",
       "      <th>V40</th>\n",
       "      <th>V41</th>\n",
       "    </tr>\n",
       "  </thead>\n",
       "  <tbody>\n",
       "    <tr>\n",
       "      <th>count</th>\n",
       "      <td>1010.000000</td>\n",
       "      <td>1010.000000</td>\n",
       "      <td>1010.000000</td>\n",
       "      <td>1010.000000</td>\n",
       "      <td>1010.0</td>\n",
       "      <td>1010.0</td>\n",
       "      <td>1010.0</td>\n",
       "      <td>1010.000000</td>\n",
       "      <td>1010.0</td>\n",
       "      <td>1010.000000</td>\n",
       "      <td>...</td>\n",
       "      <td>1010.000000</td>\n",
       "      <td>1010.000000</td>\n",
       "      <td>1010.000000</td>\n",
       "      <td>1010.000000</td>\n",
       "      <td>1010.000000</td>\n",
       "      <td>1010.000000</td>\n",
       "      <td>1010.0</td>\n",
       "      <td>1010.0</td>\n",
       "      <td>1010.0</td>\n",
       "      <td>1010.0</td>\n",
       "    </tr>\n",
       "    <tr>\n",
       "      <th>mean</th>\n",
       "      <td>1266.955446</td>\n",
       "      <td>0.358416</td>\n",
       "      <td>251.733663</td>\n",
       "      <td>4406.892079</td>\n",
       "      <td>0.0</td>\n",
       "      <td>0.0</td>\n",
       "      <td>0.0</td>\n",
       "      <td>0.001980</td>\n",
       "      <td>0.0</td>\n",
       "      <td>0.990099</td>\n",
       "      <td>...</td>\n",
       "      <td>77.951485</td>\n",
       "      <td>220.212871</td>\n",
       "      <td>0.989465</td>\n",
       "      <td>0.000198</td>\n",
       "      <td>0.091564</td>\n",
       "      <td>0.030901</td>\n",
       "      <td>0.0</td>\n",
       "      <td>0.0</td>\n",
       "      <td>0.0</td>\n",
       "      <td>0.0</td>\n",
       "    </tr>\n",
       "    <tr>\n",
       "      <th>std</th>\n",
       "      <td>7673.734842</td>\n",
       "      <td>7.098504</td>\n",
       "      <td>90.184655</td>\n",
       "      <td>12622.749116</td>\n",
       "      <td>0.0</td>\n",
       "      <td>0.0</td>\n",
       "      <td>0.0</td>\n",
       "      <td>0.044477</td>\n",
       "      <td>0.0</td>\n",
       "      <td>0.099059</td>\n",
       "      <td>...</td>\n",
       "      <td>86.600839</td>\n",
       "      <td>70.112604</td>\n",
       "      <td>0.100465</td>\n",
       "      <td>0.001981</td>\n",
       "      <td>0.187455</td>\n",
       "      <td>0.019332</td>\n",
       "      <td>0.0</td>\n",
       "      <td>0.0</td>\n",
       "      <td>0.0</td>\n",
       "      <td>0.0</td>\n",
       "    </tr>\n",
       "    <tr>\n",
       "      <th>min</th>\n",
       "      <td>1.000000</td>\n",
       "      <td>0.000000</td>\n",
       "      <td>142.000000</td>\n",
       "      <td>0.000000</td>\n",
       "      <td>0.0</td>\n",
       "      <td>0.0</td>\n",
       "      <td>0.0</td>\n",
       "      <td>0.000000</td>\n",
       "      <td>0.0</td>\n",
       "      <td>0.000000</td>\n",
       "      <td>...</td>\n",
       "      <td>0.000000</td>\n",
       "      <td>0.000000</td>\n",
       "      <td>0.000000</td>\n",
       "      <td>0.000000</td>\n",
       "      <td>0.000000</td>\n",
       "      <td>0.000000</td>\n",
       "      <td>0.0</td>\n",
       "      <td>0.0</td>\n",
       "      <td>0.0</td>\n",
       "      <td>0.0</td>\n",
       "    </tr>\n",
       "    <tr>\n",
       "      <th>25%</th>\n",
       "      <td>253.250000</td>\n",
       "      <td>0.000000</td>\n",
       "      <td>217.000000</td>\n",
       "      <td>592.500000</td>\n",
       "      <td>0.0</td>\n",
       "      <td>0.0</td>\n",
       "      <td>0.0</td>\n",
       "      <td>0.000000</td>\n",
       "      <td>0.0</td>\n",
       "      <td>1.000000</td>\n",
       "      <td>...</td>\n",
       "      <td>14.000000</td>\n",
       "      <td>242.250000</td>\n",
       "      <td>1.000000</td>\n",
       "      <td>0.000000</td>\n",
       "      <td>0.010000</td>\n",
       "      <td>0.010000</td>\n",
       "      <td>0.0</td>\n",
       "      <td>0.0</td>\n",
       "      <td>0.0</td>\n",
       "      <td>0.0</td>\n",
       "    </tr>\n",
       "    <tr>\n",
       "      <th>50%</th>\n",
       "      <td>505.500000</td>\n",
       "      <td>0.000000</td>\n",
       "      <td>235.000000</td>\n",
       "      <td>1948.000000</td>\n",
       "      <td>0.0</td>\n",
       "      <td>0.0</td>\n",
       "      <td>0.0</td>\n",
       "      <td>0.000000</td>\n",
       "      <td>0.0</td>\n",
       "      <td>1.000000</td>\n",
       "      <td>...</td>\n",
       "      <td>36.000000</td>\n",
       "      <td>255.000000</td>\n",
       "      <td>1.000000</td>\n",
       "      <td>0.000000</td>\n",
       "      <td>0.030000</td>\n",
       "      <td>0.040000</td>\n",
       "      <td>0.0</td>\n",
       "      <td>0.0</td>\n",
       "      <td>0.0</td>\n",
       "      <td>0.0</td>\n",
       "    </tr>\n",
       "    <tr>\n",
       "      <th>75%</th>\n",
       "      <td>757.750000</td>\n",
       "      <td>0.000000</td>\n",
       "      <td>271.000000</td>\n",
       "      <td>2964.000000</td>\n",
       "      <td>0.0</td>\n",
       "      <td>0.0</td>\n",
       "      <td>0.0</td>\n",
       "      <td>0.000000</td>\n",
       "      <td>0.0</td>\n",
       "      <td>1.000000</td>\n",
       "      <td>...</td>\n",
       "      <td>122.750000</td>\n",
       "      <td>255.000000</td>\n",
       "      <td>1.000000</td>\n",
       "      <td>0.000000</td>\n",
       "      <td>0.070000</td>\n",
       "      <td>0.050000</td>\n",
       "      <td>0.0</td>\n",
       "      <td>0.0</td>\n",
       "      <td>0.0</td>\n",
       "      <td>0.0</td>\n",
       "    </tr>\n",
       "    <tr>\n",
       "      <th>max</th>\n",
       "      <td>77917.000000</td>\n",
       "      <td>202.000000</td>\n",
       "      <td>1032.000000</td>\n",
       "      <td>238768.000000</td>\n",
       "      <td>0.0</td>\n",
       "      <td>0.0</td>\n",
       "      <td>0.0</td>\n",
       "      <td>1.000000</td>\n",
       "      <td>0.0</td>\n",
       "      <td>1.000000</td>\n",
       "      <td>...</td>\n",
       "      <td>255.000000</td>\n",
       "      <td>255.000000</td>\n",
       "      <td>1.000000</td>\n",
       "      <td>0.020000</td>\n",
       "      <td>1.000000</td>\n",
       "      <td>0.070000</td>\n",
       "      <td>0.0</td>\n",
       "      <td>0.0</td>\n",
       "      <td>0.0</td>\n",
       "      <td>0.0</td>\n",
       "    </tr>\n",
       "  </tbody>\n",
       "</table>\n",
       "<p>8 rows × 39 columns</p>\n",
       "</div>"
      ],
      "text/plain": [
       "         Unnamed: 0           V1           V5             V6      V7      V8  \\\n",
       "count   1010.000000  1010.000000  1010.000000    1010.000000  1010.0  1010.0   \n",
       "mean    1266.955446     0.358416   251.733663    4406.892079     0.0     0.0   \n",
       "std     7673.734842     7.098504    90.184655   12622.749116     0.0     0.0   \n",
       "min        1.000000     0.000000   142.000000       0.000000     0.0     0.0   \n",
       "25%      253.250000     0.000000   217.000000     592.500000     0.0     0.0   \n",
       "50%      505.500000     0.000000   235.000000    1948.000000     0.0     0.0   \n",
       "75%      757.750000     0.000000   271.000000    2964.000000     0.0     0.0   \n",
       "max    77917.000000   202.000000  1032.000000  238768.000000     0.0     0.0   \n",
       "\n",
       "           V9          V10     V11          V12   ...            V32  \\\n",
       "count  1010.0  1010.000000  1010.0  1010.000000   ...    1010.000000   \n",
       "mean      0.0     0.001980     0.0     0.990099   ...      77.951485   \n",
       "std       0.0     0.044477     0.0     0.099059   ...      86.600839   \n",
       "min       0.0     0.000000     0.0     0.000000   ...       0.000000   \n",
       "25%       0.0     0.000000     0.0     1.000000   ...      14.000000   \n",
       "50%       0.0     0.000000     0.0     1.000000   ...      36.000000   \n",
       "75%       0.0     0.000000     0.0     1.000000   ...     122.750000   \n",
       "max       0.0     1.000000     0.0     1.000000   ...     255.000000   \n",
       "\n",
       "               V33          V34          V35          V36          V37  \\\n",
       "count  1010.000000  1010.000000  1010.000000  1010.000000  1010.000000   \n",
       "mean    220.212871     0.989465     0.000198     0.091564     0.030901   \n",
       "std      70.112604     0.100465     0.001981     0.187455     0.019332   \n",
       "min       0.000000     0.000000     0.000000     0.000000     0.000000   \n",
       "25%     242.250000     1.000000     0.000000     0.010000     0.010000   \n",
       "50%     255.000000     1.000000     0.000000     0.030000     0.040000   \n",
       "75%     255.000000     1.000000     0.000000     0.070000     0.050000   \n",
       "max     255.000000     1.000000     0.020000     1.000000     0.070000   \n",
       "\n",
       "          V38     V39     V40     V41  \n",
       "count  1010.0  1010.0  1010.0  1010.0  \n",
       "mean      0.0     0.0     0.0     0.0  \n",
       "std       0.0     0.0     0.0     0.0  \n",
       "min       0.0     0.0     0.0     0.0  \n",
       "25%       0.0     0.0     0.0     0.0  \n",
       "50%       0.0     0.0     0.0     0.0  \n",
       "75%       0.0     0.0     0.0     0.0  \n",
       "max       0.0     0.0     0.0     0.0  \n",
       "\n",
       "[8 rows x 39 columns]"
      ]
     },
     "execution_count": 4,
     "metadata": {},
     "output_type": "execute_result"
    }
   ],
   "source": [
    "df.describe()"
   ]
  },
  {
   "cell_type": "code",
   "execution_count": 5,
   "metadata": {},
   "outputs": [
    {
     "data": {
      "text/plain": [
       "(1010, 43)"
      ]
     },
     "execution_count": 5,
     "metadata": {},
     "output_type": "execute_result"
    }
   ],
   "source": [
    "df.shape"
   ]
  },
  {
   "cell_type": "code",
   "execution_count": 6,
   "metadata": {
    "collapsed": true
   },
   "outputs": [],
   "source": [
    "# 데이터를 normal : 0, smuff : 1과 같이 설정한 후 쪼갠다\n",
    "\n",
    "df.ix[df['V42'] == 'normal.', 'V42'] = 0\n",
    "df.ix[df['V42'] != 0 , 'V42'] = 1"
   ]
  },
  {
   "cell_type": "code",
   "execution_count": 7,
   "metadata": {
    "collapsed": true
   },
   "outputs": [],
   "source": [
    "normal = df.loc[df.V42 ==0]\n",
    "abnormal = df.loc[df.V42 != 0]"
   ]
  },
  {
   "cell_type": "code",
   "execution_count": 8,
   "metadata": {},
   "outputs": [
    {
     "data": {
      "text/plain": [
       "array([[1, 0, 'tcp', ..., 0, 0, 0],\n",
       "       [2, 0, 'tcp', ..., 0, 0, 0],\n",
       "       [3, 0, 'tcp', ..., 0, 0, 0],\n",
       "       ..., \n",
       "       [77915, 0, 'icmp', ..., 0, 0, 1],\n",
       "       [77916, 0, 'icmp', ..., 0, 0, 1],\n",
       "       [77917, 0, 'icmp', ..., 0, 0, 1]], dtype=object)"
      ]
     },
     "execution_count": 8,
     "metadata": {},
     "output_type": "execute_result"
    }
   ],
   "source": [
    "# 데이터프레임을 행렬로 바꾼다. 반드시 할 필요는 없지만 아래 해석코드에서 행렬을 사용하기 때문에 변환\n",
    "df.as_matrix()"
   ]
  },
  {
   "cell_type": "code",
   "execution_count": 9,
   "metadata": {
    "collapsed": true
   },
   "outputs": [],
   "source": [
    "# 학습 80% 테스트 20% 로 데이터를 나눈다\n",
    "x_train_n, x_test_n = np.split(normal, [int(.8 * len(normal))])\n",
    "x_train_a, x_test_a = np.split(abnormal, [int(.8 * len(abnormal))])"
   ]
  },
  {
   "cell_type": "code",
   "execution_count": 10,
   "metadata": {
    "collapsed": true
   },
   "outputs": [],
   "source": [
    "# 쪼갠 데이터를 학습용끼리, 테스트용끼리 묶는다\n",
    "x_train = np.concatenate([x_train_n, x_train_a])\n",
    "x_test = np.concatenate([x_test_n, x_test_a])"
   ]
  },
  {
   "cell_type": "code",
   "execution_count": 11,
   "metadata": {
    "scrolled": true
   },
   "outputs": [
    {
     "data": {
      "image/png": "[encoded data removed]",
      "text/plain": [
       "<matplotlib.figure.Figure at 0x7fad8c2c0350>"
      ]
     },
     "metadata": {},
     "output_type": "display_data"
    }
   ],
   "source": [
    "# 학습용 데이터를 plot\n",
    "plt.figure()\n",
    "plt.plot(x_train[:,23], x_train[:,24],\"bx\")\n",
    "plt.xlabel(\"Feature 23\")\n",
    "plt.ylabel(\"Feature 24\")\n",
    "plt.show()"
   ]
  },
  {
   "cell_type": "code",
   "execution_count": 12,
   "metadata": {},
   "outputs": [],
   "source": [
    "# 레이블 데이터만 따로 뽑아준다\n",
    "y_train = x_train[:,42]\n",
    "y_test = x_test[:,42]"
   ]
  },
  {
   "cell_type": "code",
   "execution_count": 13,
   "metadata": {},
   "outputs": [],
   "source": [
    "# 컬럼 23,24의 데이터만 따로 추출한다\n",
    "x_train = np.column_stack((x_train[:,23], x_train[:,24]))\n",
    "x_test = np.column_stack((x_test[:,23], x_test[:,24]))\n",
    "\n",
    "# 데이터를 np.array 형식으로 설정한다\n",
    "x_train = np.array(x_train, dtype=\"int\")\n",
    "y_test = np.array(y_test, dtype=\"int\")"
   ]
  },
  {
   "cell_type": "code",
   "execution_count": 25,
   "metadata": {
    "collapsed": true
   },
   "outputs": [],
   "source": [
    "from scipy.stats import multivariate_normal\n",
    "from sklearn.metrics import f1_score  # recall , precision을 동시에 볼 수 있는 방법\n",
    "from sklearn import mixture\n",
    "\n",
    "def feature_normal(dataset):\n",
    "    mu = np.mean(dataset, axis= 0)\n",
    "    sigma = np.std(dataset, axis=0)\n",
    "    return (dataset - mu) / sigma\n",
    "\n",
    "# 가우시안의 평균 분산 값을 리턴하는 함수\n",
    "def estimateGaussian(dataset):\n",
    "    mu = np.mean(dataset, axis=0)\n",
    "    sigma = np.cov(dataset.T)\n",
    "    return mu, sigma\n",
    "\n",
    "# 실제 가우시안 그림을 만들어주는 함수\n",
    "def multivariateGaussian(dataset, mu, sigma):\n",
    "    p = multivariate_normal(mean=mu, cov=sigma)\n",
    "    return p.pdf(dataset)\n",
    "\n",
    "# 탐지의 기준이 되는 범위를 자동으로 선택해주는 함수\n",
    "# f1_score를 사용해서 최적의 경계를 찾아준다\n",
    "def selectThresholdByCV(probs, gt):\n",
    "    best_epsilon = 0\n",
    "    best_f1 = 0\n",
    "    f = 0\n",
    "    stepsize = (max(probs) - min(probs)) / 10000;  # 10000은 하이퍼파라미터이다. 바꿔서 시도도 해보면 좋다\n",
    "    epsilons = np.arange(min(probs), max(probs), stepsize)\n",
    "    \n",
    "    for epsilon in np.nditer(epsilons):\n",
    "        predictions = (probs < epsilon)\n",
    "        f = f1_score(gt, predictions, average = \"binary\")\n",
    "        if f > best_f1:\n",
    "            best_f1 = f\n",
    "            best_epsilon = epsilon\n",
    "    return best_f1, best_epsilon"
   ]
  },
  {
   "cell_type": "code",
   "execution_count": 26,
   "metadata": {},
   "outputs": [
    {
     "data": {
      "image/png": "[encoded data removed]",
      "text/plain": [
       "<matplotlib.figure.Figure at 0x7fad954dac50>"
      ]
     },
     "metadata": {},
     "output_type": "display_data"
    }
   ],
   "source": [
    "mu, sigma = estimateGaussian(x_train)\n",
    "p = multivariateGaussian(x_train, mu, sigma)\n",
    "p_t = multivariateGaussian(x_test, mu, sigma)\n",
    "\n",
    "fscore, ep = selectThresholdByCV(p_t, y_test)\n",
    "\n",
    "outliers = np.asarray(np.where( p < ep))\n",
    "\n",
    "plt.figure()\n",
    "plt.plot(x_train[:,0], x_train[:,1], \"bx\")\n",
    "plt.plot(x_train[outliers, 0], x_train[outliers, 1], \"ro\")\n",
    "plt.show()"
   ]
  },
  {
   "cell_type": "markdown",
   "metadata": {},
   "source": [
    "mu"
   ]
  }
 ],
 "metadata": {
  "kernelspec": {
   "display_name": "Python 2",
   "language": "python",
   "name": "python2"
  },
  "language_info": {
   "codemirror_mode": {
    "name": "ipython",
    "version": 2
   },
   "file_extension": ".py",
   "mimetype": "text/x-python",
   "name": "python",
   "nbconvert_exporter": "python",
   "pygments_lexer": "ipython2",
   "version": "2.7.12"
  }
 },
 "nbformat": 4,
 "nbformat_minor": 2
}
