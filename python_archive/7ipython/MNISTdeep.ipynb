{
 "metadata": {
  "name": "",
  "signature": "sha256:74e99832026a55ed01c417901cf5f3e928b49a60a9a21f088f20cd491c8ad9bd"
 },
 "nbformat": 3,
 "nbformat_minor": 0,
 "worksheets": [
  {
   "cells": [
    {
     "cell_type": "code",
     "collapsed": false,
     "input": [
      "#!/usr/bin/env pytohn\n",
      "#-*- coding: utf-8 -*-\n",
      "'''\n",
      "\tpython ==> \ube44\uc8fc\uc5bc\ucef4\ud4e8\ud305, Deep MNIST\ub85c Convolution, fully connected, dropout\ub4f1\uc758 \uae30\ubc95\uc744 \ud1b5\ud574 \uc5ec\ub7ec \uce35\uc758 \uc2e0\uacbd\ub9dd\uc744 \ub9cc\ub4e4\uc5b4\ubcf8 \ucf54\ub4dc\n",
      "'''\n",
      "%matplotlib inline # ipython \uc804\uc6a9 \ucf54\ub4dc\n",
      "import matplotlib.pyplot as plt\n",
      "import tensorflow as tf\n",
      "import numpy as np\n",
      "from tensorflow.examples.tutorials.mnist import input_data\n"
     ],
     "language": "python",
     "metadata": {},
     "outputs": [],
     "prompt_number": 1
    },
    {
     "cell_type": "code",
     "collapsed": false,
     "input": [
      "# \ub370\uc774\ud130\ub97c \ubd88\ub7ec\uc640\uc11c mnist \ubcc0\uc218\uc5d0 \ub2f4\ub294\ub2e4\n",
      "data_dir = './MNIST_data/'\n",
      "mnist = input_data.read_data_sets(data_dir, one_hot=True, validation_size=5000)\n"
     ],
     "language": "python",
     "metadata": {},
     "outputs": [
      {
       "output_type": "stream",
       "stream": "stdout",
       "text": [
        "Extracting ./MNIST_data/train-images-idx3-ubyte.gz\n",
        "Extracting"
       ]
      },
      {
       "output_type": "stream",
       "stream": "stdout",
       "text": [
        " ./MNIST_data/train-labels-idx1-ubyte.gz\n",
        "Extracting ./MNIST_data/t10k-images-idx3-ubyte.gz\n",
        "Extracting"
       ]
      },
      {
       "output_type": "stream",
       "stream": "stdout",
       "text": [
        " ./MNIST_data/t10k-labels-idx1-ubyte.gz\n"
       ]
      }
     ],
     "prompt_number": 2
    },
    {
     "cell_type": "code",
     "collapsed": false,
     "input": [
      "# None \uc740 \ub0b4\uac00 \uc5bc\ub9cc\ud07c\uc758 \ub370\uc774\ud130\ub97c \ub123\uc744\uc9c0 \uc548 \uc815\ud588\uc744 \ub54c \uc0ac\uc6a9\ud55c\ub2e4\n",
      "x_input = tf.placeholder(tf.float32, [None, 784])\n",
      "y_input = tf.placeholder(tf.float32, [None, 10])\n"
     ],
     "language": "python",
     "metadata": {},
     "outputs": [],
     "prompt_number": 3
    },
    {
     "cell_type": "code",
     "collapsed": false,
     "input": [
      "# \uac00\uc911\uce58\ub97c \ucd08\uae30\ud654\ud558\ub294 \ud568\uc218 (\uc815\uaddc\ubd84\ud3ec stddev=0.1\ub85c \ucd08\uae30\ud654\ud55c\ub2e4)\n",
      "def weight_variable(shape):\n",
      "\tinitial = tf.truncated_normal(shape, stddev=0.1)\n",
      "\treturn tf.Variable(initial)\n",
      "\n",
      "\n",
      "# \ubc14\uc774\uc5b4\uc2a4\ub97c \ucd08\uae30\ud654\ud558\ub294 \ud568\uc218 (0.1\ub85c \ucd08\uae30\ud654\ud55c\ub2e4)\n",
      "def bias_variable(shape):\n",
      "\tinitial = tf.constant(0.1, shape=shape)\n",
      "\treturn tf.Variable(initial)\n",
      "\n",
      "\n",
      "# \ucee8\ubc8c\ub8e8\uc158\uc744 \uc2e4\ud589\ud558\ub294 \ud568\uc218\n",
      "# padding = 'same' \uc785\ub825\uacfc \ucd9c\ub825\uc758 \uc774\ubbf8\uc9c0 \ud06c\uae30\uac00 \uac19\ub3c4\ub85d \ud574\uc900\ub2e4\n",
      "def conv2d(x, W):\n",
      "\treturn tf.nn.conv2d(x, W, strides=[1,1,1,1], padding='SAME')\n",
      "\n",
      "\n",
      "# max pooling\uc744 \uc2e4\ud589\ud558\ub294 \ud568\uc218\n",
      "def max_pool_2x2(x):\n",
      "\treturn tf.nn.max_pool(x, ksize=[1,2,2,1], strides=[1,2,2,1], padding='SAME')\n"
     ],
     "language": "python",
     "metadata": {},
     "outputs": [],
     "prompt_number": 4
    },
    {
     "cell_type": "code",
     "collapsed": false,
     "input": [
      "# 1st conv layer ----------------------\n",
      "W_conv1 = weight_variable([5,5,1,32])\n",
      "b_conv1 = bias_variable([32])\n",
      "\n",
      "# -1 : \uc544\uc9c1 \ub514\uba58\uc83c\uc774 \uacb0\uc815\ub418\uc9c0 \uc54a\uc558\ub2e4\n",
      "# x_input\uc740 784x1\uc778\ub370 28x28x1\ub85c \ud589\ub82c\uc744 \ub2e4\uc2dc \ub9cc\ub4e4\uc5b4\uc900\ub2e4\n",
      "x_image = tf.reshape(x_input, [-1,28,28,1])\n",
      "\n",
      "# y = x*w + b\uc5d0 ReLU\ub97c \uc801\uc6a9\ud55c\ub2e4\n",
      "h_conv1 = tf.nn.relu(conv2d(x_image, W_conv1) + b_conv1)\n",
      "h_pool1 = max_pool_2x2(h_conv1)\n"
     ],
     "language": "python",
     "metadata": {},
     "outputs": [],
     "prompt_number": 5
    },
    {
     "cell_type": "code",
     "collapsed": false,
     "input": [
      "# 2nd conv layer -----------------------\n",
      "W_conv2 = weight_variable([5,5,32,64])\n",
      "b_conv2 = bias_variable([64])\n",
      "\n",
      "h_conv2 = tf.nn.relu(conv2d(h_pool1, W_conv2) + b_conv2)\n",
      "h_pool2 = max_pool_2x2(h_conv2)\n"
     ],
     "language": "python",
     "metadata": {},
     "outputs": [],
     "prompt_number": 6
    },
    {
     "cell_type": "code",
     "collapsed": false,
     "input": [
      "# 1st fully connected layer -----------------------\n",
      "W_fc1 = weight_variable([7*7*64, 1024])\n",
      "b_fc1 = bias_variable([1024])\n",
      "\n",
      "h_pool2_flat = tf.reshape(h_pool2, [-1, 7*7*64])\n",
      "h_fc1 = tf.nn.relu(tf.matmul(h_pool2_flat, W_fc1) + b_fc1)\n",
      "# \uc704 \uc5f0\uc0b0\uc73c\ub85c 1024x1\uc758 \ubca1\ud130\uac00 \uc0dd\uc131\ub41c\ub2e4\n"
     ],
     "language": "python",
     "metadata": {},
     "outputs": [],
     "prompt_number": 7
    },
    {
     "cell_type": "code",
     "collapsed": false,
     "input": [
      "# Dropout ------------------------\n",
      "keep_prob = tf.placeholder(tf.float32)\n",
      "h_fc1_drop = tf.nn.dropout(h_fc1, keep_prob)"
     ],
     "language": "python",
     "metadata": {},
     "outputs": [],
     "prompt_number": 8
    },
    {
     "cell_type": "code",
     "collapsed": false,
     "input": [
      "# 2nd fully connected layer --------------\n",
      "W_fc2 = weight_variable([1024, 10])\n",
      "b_fc2 = bias_variable([10])\n",
      "y_conv = tf.matmul(h_fc1_drop, W_fc2) + b_fc2\n",
      "\n"
     ],
     "language": "python",
     "metadata": {},
     "outputs": [],
     "prompt_number": 9
    },
    {
     "cell_type": "code",
     "collapsed": false,
     "input": [
      "# Cross Entropy\ub97c \uc815\uc758\ud55c\ub2e4\n",
      "cross_entropy = tf.reduce_mean(tf.nn.softmax_cross_entropy_with_logits(labels=y_input, logits=y_conv))\n",
      "\n",
      "\n",
      "# Adam Optimizer \uc54c\uace0\ub9ac\uc998\uc744 \uc0ac\uc6a9\ud574\uc11c cross_entropy\ub97c \ucd5c\uc18c\ud654\ud55c\ub2e4. \ud559\uc2b5\uc728\uc740 1e-4\ub85c \ud55c\ub2e4\n",
      "train_step = tf.train.AdamOptimizer(1e-4).minimize(cross_entropy)\n"
     ],
     "language": "python",
     "metadata": {},
     "outputs": [],
     "prompt_number": 10
    },
    {
     "cell_type": "code",
     "collapsed": false,
     "input": [
      "# \uc2e4\uc81c \uc815\ub2f5\uacfc \uc608\uce21\uac12\uc774 \uc5bc\ub9c8\ub098 \uc77c\uce58\ud558\ub294\uc9c0\ub97c \ud310\ub2e8\ud558\ub294 accuray \ubcc0\uc218\ub97c \uc815\uc758\ud55c\ub2e4\n",
      "corerct_predition = tf.equal(tf.argmax(y_conv, 1) , tf.argmax(y_input, 1))\n",
      "accuracy = tf.reduce_mean(tf.cast(corerct_predition, tf.float32))\n"
     ],
     "language": "python",
     "metadata": {},
     "outputs": [],
     "prompt_number": 11
    },
    {
     "cell_type": "code",
     "collapsed": false,
     "input": [
      "# \uc138\uc158\uc744 \ucd08\uae30\ud654\ud55c\ub2e4\n",
      "sess = tf.InteractiveSession()\n",
      "sess.run(tf.global_variables_initializer())\n"
     ],
     "language": "python",
     "metadata": {},
     "outputs": [],
     "prompt_number": 12
    },
    {
     "cell_type": "code",
     "collapsed": false,
     "input": [
      "for i in range(2000):\n",
      "\t# [image[50], label[50]]\ub97c 6\ub9cc\uac1c\uc758 \uae30\uc874 \ub370\uc774\ud130\uc5d0\uc11c \ub79c\ub364\uc73c\ub85c \ud55c \ubb36\uc74c\uc73c\ub85c \ucc98\ub9ac\ud55c\ub2e4\uc74c \uc774\uac83\uc744 \ud559\uc2b5\ud55c\ub2e4\n",
      "\tbatch = mnist.train.next_batch(50)\n",
      "\t# 100\ubc88 \ub3cc\ub9b4 \ub54c\ub9c8\ub2e4 \uacb0\uacfc\ub97c \ud655\uc778\ud55c\ub2e4\n",
      "\tif i%100 == 0:\n",
      "\t\ttrain_accuracy = accuracy.eval(feed_dict={x_input:batch[0], y_input:batch[1], keep_prob:1.0})\n",
      "\n",
      "\t\tprint('step', i , 'training_accuracy', train_accuracy)\n",
      "\ttrain_step.run(feed_dict={x_input:batch[0],y_input:batch[1], keep_prob:0.5})\n",
      "\n"
     ],
     "language": "python",
     "metadata": {},
     "outputs": [
      {
       "output_type": "stream",
       "stream": "stdout",
       "text": [
        "('step', 0, 'training_accuracy', 0.12)\n",
        "('step', 100, 'training_accuracy', 0.86000001)"
       ]
      },
      {
       "output_type": "stream",
       "stream": "stdout",
       "text": [
        "\n",
        "('step', 200, 'training_accuracy', 0.89999998)"
       ]
      },
      {
       "output_type": "stream",
       "stream": "stdout",
       "text": [
        "\n",
        "('step', 300, 'training_accuracy', 0.88)"
       ]
      },
      {
       "output_type": "stream",
       "stream": "stdout",
       "text": [
        "\n",
        "('step', 400, 'training_accuracy', 0.95999998)"
       ]
      },
      {
       "output_type": "stream",
       "stream": "stdout",
       "text": [
        "\n",
        "('step', 500, 'training_accuracy', 0.95999998)"
       ]
      },
      {
       "output_type": "stream",
       "stream": "stdout",
       "text": [
        "\n",
        "('step', 600, 'training_accuracy', 1.0)"
       ]
      },
      {
       "output_type": "stream",
       "stream": "stdout",
       "text": [
        "\n",
        "('step', 700, 'training_accuracy', 0.92000002)"
       ]
      },
      {
       "output_type": "stream",
       "stream": "stdout",
       "text": [
        "\n",
        "('step', 800, 'training_accuracy', 0.88)"
       ]
      },
      {
       "output_type": "stream",
       "stream": "stdout",
       "text": [
        "\n",
        "('step', 900, 'training_accuracy', 1.0)"
       ]
      },
      {
       "output_type": "stream",
       "stream": "stdout",
       "text": [
        "\n",
        "('step', 1000, 'training_accuracy', 0.92000002)"
       ]
      },
      {
       "output_type": "stream",
       "stream": "stdout",
       "text": [
        "\n",
        "('step', 1100, 'training_accuracy', 0.95999998)"
       ]
      },
      {
       "output_type": "stream",
       "stream": "stdout",
       "text": [
        "\n",
        "('step', 1200, 'training_accuracy', 0.95999998)"
       ]
      },
      {
       "output_type": "stream",
       "stream": "stdout",
       "text": [
        "\n",
        "('step', 1300, 'training_accuracy', 1.0)"
       ]
      },
      {
       "output_type": "stream",
       "stream": "stdout",
       "text": [
        "\n",
        "('step', 1400, 'training_accuracy', 0.95999998)"
       ]
      },
      {
       "output_type": "stream",
       "stream": "stdout",
       "text": [
        "\n",
        "('step', 1500, 'training_accuracy', 0.94)"
       ]
      },
      {
       "output_type": "stream",
       "stream": "stdout",
       "text": [
        "\n",
        "('step', 1600, 'training_accuracy', 0.95999998)"
       ]
      },
      {
       "output_type": "stream",
       "stream": "stdout",
       "text": [
        "\n",
        "('step', 1700, 'training_accuracy', 0.92000002)"
       ]
      },
      {
       "output_type": "stream",
       "stream": "stdout",
       "text": [
        "\n",
        "('step', 1800, 'training_accuracy', 0.98000002)"
       ]
      },
      {
       "output_type": "stream",
       "stream": "stdout",
       "text": [
        "\n",
        "('step', 1900, 'training_accuracy', 0.95999998)"
       ]
      },
      {
       "output_type": "stream",
       "stream": "stdout",
       "text": [
        "\n"
       ]
      }
     ],
     "prompt_number": 13
    },
    {
     "cell_type": "code",
     "collapsed": false,
     "input": [
      "# \uc804\ubd80 \ud559\uc2b5\uc774 \ub05d\ub098\uba74 \ud14c\uc2a4\ud2b8 \ub370\uc774\ud130\ub97c \ub123\ub294\ub2e4\n",
      "test_accuracy = accuracy.eval(feed_dict={x_input: mnist.test.images, y_input: mnist.test.labels, keep_prob: 1.0})\n",
      "print('test accuracy', test_accuracy)\n"
     ],
     "language": "python",
     "metadata": {},
     "outputs": [
      {
       "output_type": "stream",
       "stream": "stdout",
       "text": [
        "('test accuracy', 0.97680002)\n"
       ]
      }
     ],
     "prompt_number": 16
    },
    {
     "cell_type": "code",
     "collapsed": false,
     "input": [],
     "language": "python",
     "metadata": {},
     "outputs": []
    }
   ],
   "metadata": {}
  }
 ]
}